{
 "cells": [
  {
   "cell_type": "markdown",
   "metadata": {},
   "source": [
    "<center><img src=\"msc/sda_banner.png\" width=\"850\" height=\"200\"></center>"
   ]
  },
  {
   "cell_type": "markdown",
   "metadata": {},
   "source": [
    "# Data Management"
   ]
  },
  {
   "cell_type": "markdown",
   "metadata": {},
   "source": [
    "Core concepts of Series and DataFrames to train on:\n",
    "- create a Series / DataFrame\n",
    "- delete a Series / DataFrame\n",
    "- add an element\n",
    "- delete an element\n",
    "- retrieve an element\n",
    "- modify an element\n",
    "- same operations with multiple elements\n",
    "\n",
    "These can be done for a single element or for multiple elements as seen in the course.\n"
   ]
  },
  {
   "cell_type": "markdown",
   "metadata": {},
   "source": [
    "In this series of exercises we are going to follow the adventures of a young robot endowed with capacity to feel emotions named \"Eoki\". Eoki can learn fast, but is also a sensible HR (Human-Robot), so please be gentle!"
   ]
  },
  {
   "cell_type": "markdown",
   "metadata": {},
   "source": [
    "<center><img src=\"msc/Eoki_base.png\" width=\"100\" height=\"100\"></center>"
   ]
  },
  {
   "cell_type": "markdown",
   "metadata": {},
   "source": [
    "Eoki loves animals, but its favorites are pandas! You are going to help Eoki find where its pandas friends are located, ensure they are in a good shape and in a safe environment with enough healthy food."
   ]
  },
  {
   "cell_type": "markdown",
   "metadata": {},
   "source": [
    "## 1.1 - Import & Explore"
   ]
  },
  {
   "cell_type": "code",
   "execution_count": null,
   "metadata": {},
   "outputs": [],
   "source": []
  },
  {
   "cell_type": "markdown",
   "metadata": {},
   "source": [
    "## 1.2 - Selection & Filters"
   ]
  },
  {
   "cell_type": "markdown",
   "metadata": {},
   "source": [
    "## 2.1 - Data Cleaning"
   ]
  },
  {
   "cell_type": "markdown",
   "metadata": {},
   "source": [
    "## 2.2 - Features Engineering"
   ]
  },
  {
   "cell_type": "markdown",
   "metadata": {},
   "source": [
    "# Data Visualization"
   ]
  },
  {
   "cell_type": "code",
   "execution_count": null,
   "metadata": {},
   "outputs": [],
   "source": []
  }
 ],
 "metadata": {
  "kernelspec": {
   "display_name": "Python 3.9.2 64-bit ('eda': conda)",
   "name": "python392jvsc74a57bd0143a8234bd608e0b612203721941a09deaaeca24e144d77d0b745dc3344134be"
  },
  "language_info": {
   "name": "python",
   "version": ""
  },
  "metadata": {
   "interpreter": {
    "hash": "143a8234bd608e0b612203721941a09deaaeca24e144d77d0b745dc3344134be"
   }
  },
  "orig_nbformat": 2
 },
 "nbformat": 4,
 "nbformat_minor": 2
}