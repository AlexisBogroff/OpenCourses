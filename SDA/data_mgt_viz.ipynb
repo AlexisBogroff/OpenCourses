{
 "cells": [
  {
   "cell_type": "markdown",
   "metadata": {},
   "source": [
    "<center><img src=\"msc/sda_banner.png\" width=\"850\" height=\"200\"></center>"
   ]
  },
  {
   "cell_type": "code",
   "execution_count": null,
   "metadata": {},
   "outputs": [],
   "source": []
  }
 ],
 "metadata": {
  "kernelspec": {
   "display_name": "Python 3.9.2 64-bit ('eda': conda)",
   "name": "python392jvsc74a57bd0143a8234bd608e0b612203721941a09deaaeca24e144d77d0b745dc3344134be"
  },
  "language_info": {
   "name": "python",
   "version": ""
  },
  "metadata": {
   "interpreter": {
    "hash": "143a8234bd608e0b612203721941a09deaaeca24e144d77d0b745dc3344134be"
   }
  },
  "orig_nbformat": 2
 },
 "nbformat": 4,
 "nbformat_minor": 2
}