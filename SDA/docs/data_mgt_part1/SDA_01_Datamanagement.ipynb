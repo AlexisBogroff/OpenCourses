{
 "cells": [
  {
   "cell_type": "markdown",
   "metadata": {},
   "source": [
    "# **<h1><center><span style=\"color:#3775a8\"><u>SORBONNE DATA ANALYTIC : Le Datamanagement</u></span></center></h1>**\n",
    "# **<span style=\"color:#3775a8\">Import et exploration de la donnée</span>**\n",
    "\n",
    "Bienvenue dans le suite du cours. Vous allez manipuler votre premier jeu de données : **Présentation des données**\n",
    "\n",
    "# **<span style=\"color:#3775a8\">1. L'import des données </span>**\n"
   ]
  },
  {
   "cell_type": "code",
   "execution_count": 1,
   "metadata": {},
   "outputs": [],
   "source": [
    "import pandas as pd # Import de la librairie Pandas"
   ]
  },
  {
   "cell_type": "code",
   "execution_count": 2,
   "metadata": {},
   "outputs": [],
   "source": [
    "df = pd.read_csv('sda_base_DM.csv') # C'est aussi simple que ça !"
   ]
  },
  {
   "cell_type": "markdown",
   "metadata": {},
   "source": [
    "# **<span style=\"color:#3775a8\">2. Explorer le DataFrame</span>**\n",
    "\n",
    "Avant de plonger plus intensément dans la données, il faut effectuer quelques vérifications afin de mieux comprendre comment est structurée la donnée.\n",
    "\n",
    "## **<span style=\"color:#3775a8\">2.1. Les dimensions</span>**\n",
    "\n",
    "Vous pouvez utiliser l'attribut `shape`."
   ]
  },
  {
   "cell_type": "code",
   "execution_count": 3,
   "metadata": {},
   "outputs": [
    {
     "data": {
      "text/plain": [
       "(210926, 10)"
      ]
     },
     "execution_count": 3,
     "metadata": {},
     "output_type": "execute_result"
    }
   ],
   "source": [
    "df.shape # (nb lignes, nb colonnes)\n",
    "         # Rappelez-vous l'absence de parenthèse réfère à une propriété"
   ]
  },
  {
   "cell_type": "code",
   "execution_count": 4,
   "metadata": {},
   "outputs": [
    {
     "name": "stdout",
     "output_type": "stream",
     "text": [
      "La base fait 210926 lignes et 10 colonnes\n"
     ]
    }
   ],
   "source": [
    "# Un peu de mise en forme\n",
    "print(f\"La base fait {df.shape[0]} lignes et {df.shape[1]} colonnes\")"
   ]
  },
  {
   "cell_type": "markdown",
   "metadata": {},
   "source": [
    "**Remarque :** Vous récupérez ici un tuple, il est donc immuable. C'est logique, il n'y a pas de raison de modifier cette propriété.\n",
    "\n",
    "## **<span style=\"color:#3775a8\">2.2. Les premières & les dernières lignes</span>**\n",
    "\n",
    "Prenez le temps de regarder à le contenu de la donnée.\n"
   ]
  },
  {
   "cell_type": "code",
   "execution_count": 5,
   "metadata": {},
   "outputs": [
    {
     "data": {
      "text/html": [
       "<div>\n",
       "<style scoped>\n",
       "    .dataframe tbody tr th:only-of-type {\n",
       "        vertical-align: middle;\n",
       "    }\n",
       "\n",
       "    .dataframe tbody tr th {\n",
       "        vertical-align: top;\n",
       "    }\n",
       "\n",
       "    .dataframe thead th {\n",
       "        text-align: right;\n",
       "    }\n",
       "</style>\n",
       "<table border=\"1\" class=\"dataframe\">\n",
       "  <thead>\n",
       "    <tr style=\"text-align: right;\">\n",
       "      <th></th>\n",
       "      <th>Date</th>\n",
       "      <th>Vitesse_Vent_Moyen_10min</th>\n",
       "      <th>Humidite</th>\n",
       "      <th>Precipitation_derniere_heure</th>\n",
       "      <th>Nom</th>\n",
       "      <th>Temperature_dC</th>\n",
       "      <th>Altitude</th>\n",
       "      <th>Longitude</th>\n",
       "      <th>Latitude</th>\n",
       "      <th>Region</th>\n",
       "    </tr>\n",
       "  </thead>\n",
       "  <tbody>\n",
       "    <tr>\n",
       "      <th>0</th>\n",
       "      <td>2011-01-01 01:00:00</td>\n",
       "      <td>0.0</td>\n",
       "      <td>97.0</td>\n",
       "      <td>0.0</td>\n",
       "      <td>BORDEAUX-MERIGNAC</td>\n",
       "      <td>5.6</td>\n",
       "      <td>47</td>\n",
       "      <td>-0.691333</td>\n",
       "      <td>44.830667</td>\n",
       "      <td>Nouvelle-Aquitaine</td>\n",
       "    </tr>\n",
       "    <tr>\n",
       "      <th>1</th>\n",
       "      <td>2011-01-01 01:00:00</td>\n",
       "      <td>2.1</td>\n",
       "      <td>94.0</td>\n",
       "      <td>0.0</td>\n",
       "      <td>ORLY</td>\n",
       "      <td>-0.7</td>\n",
       "      <td>89</td>\n",
       "      <td>2.384333</td>\n",
       "      <td>48.716833</td>\n",
       "      <td>Île-de-France</td>\n",
       "    </tr>\n",
       "    <tr>\n",
       "      <th>2</th>\n",
       "      <td>2011-01-01 01:00:00</td>\n",
       "      <td>0.0</td>\n",
       "      <td>87.0</td>\n",
       "      <td>0.0</td>\n",
       "      <td>MARIGNANE</td>\n",
       "      <td>8.0</td>\n",
       "      <td>9</td>\n",
       "      <td>5.216000</td>\n",
       "      <td>43.437667</td>\n",
       "      <td>Provence-Alpes-Côte d'Azur</td>\n",
       "    </tr>\n",
       "    <tr>\n",
       "      <th>3</th>\n",
       "      <td>2011-01-01 01:00:00</td>\n",
       "      <td>3.1</td>\n",
       "      <td>84.0</td>\n",
       "      <td>NaN</td>\n",
       "      <td>JUAN DE NOVA</td>\n",
       "      <td>27.9</td>\n",
       "      <td>9</td>\n",
       "      <td>42.712000</td>\n",
       "      <td>-17.054667</td>\n",
       "      <td>NaN</td>\n",
       "    </tr>\n",
       "    <tr>\n",
       "      <th>4</th>\n",
       "      <td>2011-01-01 01:00:00</td>\n",
       "      <td>1.0</td>\n",
       "      <td>92.0</td>\n",
       "      <td>0.0</td>\n",
       "      <td>STRASBOURG-ENTZHEIM</td>\n",
       "      <td>-0.4</td>\n",
       "      <td>150</td>\n",
       "      <td>7.640333</td>\n",
       "      <td>48.549500</td>\n",
       "      <td>Grand Est</td>\n",
       "    </tr>\n",
       "  </tbody>\n",
       "</table>\n",
       "</div>"
      ],
      "text/plain": [
       "                  Date  Vitesse_Vent_Moyen_10min  Humidite  \\\n",
       "0  2011-01-01 01:00:00                       0.0      97.0   \n",
       "1  2011-01-01 01:00:00                       2.1      94.0   \n",
       "2  2011-01-01 01:00:00                       0.0      87.0   \n",
       "3  2011-01-01 01:00:00                       3.1      84.0   \n",
       "4  2011-01-01 01:00:00                       1.0      92.0   \n",
       "\n",
       "   Precipitation_derniere_heure                  Nom  Temperature_dC  \\\n",
       "0                           0.0    BORDEAUX-MERIGNAC             5.6   \n",
       "1                           0.0                 ORLY            -0.7   \n",
       "2                           0.0            MARIGNANE             8.0   \n",
       "3                           NaN         JUAN DE NOVA            27.9   \n",
       "4                           0.0  STRASBOURG-ENTZHEIM            -0.4   \n",
       "\n",
       "   Altitude  Longitude   Latitude                      Region  \n",
       "0        47  -0.691333  44.830667          Nouvelle-Aquitaine  \n",
       "1        89   2.384333  48.716833               Île-de-France  \n",
       "2         9   5.216000  43.437667  Provence-Alpes-Côte d'Azur  \n",
       "3         9  42.712000 -17.054667                         NaN  \n",
       "4       150   7.640333  48.549500                   Grand Est  "
      ]
     },
     "execution_count": 5,
     "metadata": {},
     "output_type": "execute_result"
    }
   ],
   "source": [
    "df.head() # Affiche les 5 premières lignes (par défaut)"
   ]
  },
  {
   "cell_type": "code",
   "execution_count": 6,
   "metadata": {},
   "outputs": [
    {
     "data": {
      "text/html": [
       "<div>\n",
       "<style scoped>\n",
       "    .dataframe tbody tr th:only-of-type {\n",
       "        vertical-align: middle;\n",
       "    }\n",
       "\n",
       "    .dataframe tbody tr th {\n",
       "        vertical-align: top;\n",
       "    }\n",
       "\n",
       "    .dataframe thead th {\n",
       "        text-align: right;\n",
       "    }\n",
       "</style>\n",
       "<table border=\"1\" class=\"dataframe\">\n",
       "  <thead>\n",
       "    <tr style=\"text-align: right;\">\n",
       "      <th></th>\n",
       "      <th>Date</th>\n",
       "      <th>Vitesse_Vent_Moyen_10min</th>\n",
       "      <th>Humidite</th>\n",
       "      <th>Precipitation_derniere_heure</th>\n",
       "      <th>Nom</th>\n",
       "      <th>Temperature_dC</th>\n",
       "      <th>Altitude</th>\n",
       "      <th>Longitude</th>\n",
       "      <th>Latitude</th>\n",
       "      <th>Region</th>\n",
       "    </tr>\n",
       "  </thead>\n",
       "  <tbody>\n",
       "    <tr>\n",
       "      <th>210923</th>\n",
       "      <td>2020-12-31 22:00:00</td>\n",
       "      <td>1.9</td>\n",
       "      <td>92.0</td>\n",
       "      <td>0.0</td>\n",
       "      <td>ORLY</td>\n",
       "      <td>1.1</td>\n",
       "      <td>89</td>\n",
       "      <td>2.384333</td>\n",
       "      <td>48.716833</td>\n",
       "      <td>Île-de-France</td>\n",
       "    </tr>\n",
       "    <tr>\n",
       "      <th>210924</th>\n",
       "      <td>2020-12-31 22:00:00</td>\n",
       "      <td>0.8</td>\n",
       "      <td>93.0</td>\n",
       "      <td>0.0</td>\n",
       "      <td>STRASBOURG-ENTZHEIM</td>\n",
       "      <td>2.4</td>\n",
       "      <td>150</td>\n",
       "      <td>7.640333</td>\n",
       "      <td>48.549500</td>\n",
       "      <td>Grand Est</td>\n",
       "    </tr>\n",
       "    <tr>\n",
       "      <th>210925</th>\n",
       "      <td>2020-12-31 22:00:00</td>\n",
       "      <td>3.3</td>\n",
       "      <td>95.0</td>\n",
       "      <td>0.0</td>\n",
       "      <td>BREST-GUIPAVAS</td>\n",
       "      <td>1.7</td>\n",
       "      <td>94</td>\n",
       "      <td>-4.412000</td>\n",
       "      <td>48.444167</td>\n",
       "      <td>Bretagne</td>\n",
       "    </tr>\n",
       "  </tbody>\n",
       "</table>\n",
       "</div>"
      ],
      "text/plain": [
       "                       Date  Vitesse_Vent_Moyen_10min  Humidite  \\\n",
       "210923  2020-12-31 22:00:00                       1.9      92.0   \n",
       "210924  2020-12-31 22:00:00                       0.8      93.0   \n",
       "210925  2020-12-31 22:00:00                       3.3      95.0   \n",
       "\n",
       "        Precipitation_derniere_heure                  Nom  Temperature_dC  \\\n",
       "210923                           0.0                 ORLY             1.1   \n",
       "210924                           0.0  STRASBOURG-ENTZHEIM             2.4   \n",
       "210925                           0.0       BREST-GUIPAVAS             1.7   \n",
       "\n",
       "        Altitude  Longitude   Latitude         Region  \n",
       "210923        89   2.384333  48.716833  Île-de-France  \n",
       "210924       150   7.640333  48.549500      Grand Est  \n",
       "210925        94  -4.412000  48.444167       Bretagne  "
      ]
     },
     "execution_count": 6,
     "metadata": {},
     "output_type": "execute_result"
    }
   ],
   "source": [
    "df.tail(n=3) # affiche les 10 dernières lignes"
   ]
  },
  {
   "cell_type": "markdown",
   "metadata": {},
   "source": [
    "## **<span style=\"color:#3775a8\">2.3. Les types de données</span>**\n",
    "\n",
    "Les `Dataframes` sont des conteneurs de `Series` et chacune d'entre elle peut  contenir un type de données différent."
   ]
  },
  {
   "cell_type": "code",
   "execution_count": 7,
   "metadata": {},
   "outputs": [
    {
     "data": {
      "text/plain": [
       "Date                             object\n",
       "Vitesse_Vent_Moyen_10min        float64\n",
       "Humidite                        float64\n",
       "Precipitation_derniere_heure    float64\n",
       "Nom                              object\n",
       "Temperature_dC                  float64\n",
       "Altitude                          int64\n",
       "Longitude                       float64\n",
       "Latitude                        float64\n",
       "Region                           object\n",
       "dtype: object"
      ]
     },
     "execution_count": 7,
     "metadata": {},
     "output_type": "execute_result"
    }
   ],
   "source": [
    "df.dtypes"
   ]
  },
  {
   "cell_type": "markdown",
   "metadata": {},
   "source": [
    "Vous pouvez remarquer ici que la colonne `Date` est mal typée, c'est une date et elle est typée comme un objet, il faut y remedier !"
   ]
  },
  {
   "cell_type": "code",
   "execution_count": 8,
   "metadata": {},
   "outputs": [],
   "source": [
    "df['Date'] = pd.to_datetime(df['Date']) # Vous corrigez le type et écraser la colonne d'origine"
   ]
  },
  {
   "cell_type": "code",
   "execution_count": 9,
   "metadata": {},
   "outputs": [
    {
     "data": {
      "text/plain": [
       "Date                            datetime64[ns]\n",
       "Vitesse_Vent_Moyen_10min               float64\n",
       "Humidite                               float64\n",
       "Precipitation_derniere_heure           float64\n",
       "Nom                                     object\n",
       "Temperature_dC                         float64\n",
       "Altitude                                 int64\n",
       "Longitude                              float64\n",
       "Latitude                               float64\n",
       "Region                                  object\n",
       "dtype: object"
      ]
     },
     "execution_count": 9,
     "metadata": {},
     "output_type": "execute_result"
    }
   ],
   "source": [
    "df.dtypes"
   ]
  },
  {
   "cell_type": "markdown",
   "metadata": {},
   "source": [
    "Le type de donnée est maintenant corrigé, cela sera notamment utile pour extraire des informations : le mois, la semaine, ..."
   ]
  },
  {
   "cell_type": "markdown",
   "metadata": {},
   "source": [
    "## **<span style=\"color:#3775a8\">2.4. La méthode info</span>**\n",
    "\n",
    "La méthode `info` reprend :\n",
    "- **Le shape** (ainsi que l'index utilisé)\n",
    "- **le type données**\n",
    "\n",
    "et ajoute :\n",
    "- **Le nombre d'observation non nulles** (non manquante) par variable\n",
    "- **La taille en mémoire** occupée par la base"
   ]
  },
  {
   "cell_type": "code",
   "execution_count": 10,
   "metadata": {},
   "outputs": [
    {
     "name": "stdout",
     "output_type": "stream",
     "text": [
      "<class 'pandas.core.frame.DataFrame'>\n",
      "RangeIndex: 210926 entries, 0 to 210925\n",
      "Data columns (total 10 columns):\n",
      " #   Column                        Non-Null Count   Dtype         \n",
      "---  ------                        --------------   -----         \n",
      " 0   Date                          210926 non-null  datetime64[ns]\n",
      " 1   Vitesse_Vent_Moyen_10min      207336 non-null  float64       \n",
      " 2   Humidite                      210828 non-null  float64       \n",
      " 3   Precipitation_derniere_heure  175642 non-null  float64       \n",
      " 4   Nom                           210926 non-null  object        \n",
      " 5   Temperature_dC                210867 non-null  float64       \n",
      " 6   Altitude                      210926 non-null  int64         \n",
      " 7   Longitude                     210926 non-null  float64       \n",
      " 8   Latitude                      210926 non-null  float64       \n",
      " 9   Region                        174645 non-null  object        \n",
      "dtypes: datetime64[ns](1), float64(6), int64(1), object(2)\n",
      "memory usage: 16.1+ MB\n"
     ]
    }
   ],
   "source": [
    "df.info()"
   ]
  },
  {
   "cell_type": "markdown",
   "metadata": {},
   "source": [
    "Vous remarquez que certaines colonnes contiennent des valeurs manquantes. Vous savez dès maintenant que c'est un problème qu'il faudra gérer. \n",
    "\n",
    "## **<span style=\"color:#3775a8\">2.5. Describe : obtenir rapidement quelques statistiques</span>**\n",
    "\n",
    "Cette méthode permet également d'obtenir des informations sur les **variables catégorielles** tel que le *mode*. \n",
    "\n",
    "Pour ce faire, je vous invite à regarder la doc de la fonction et jouer sur les paramètres. Deux manières de procéder :\n",
    "- Sur Jupyter Lab : après la 1ère parenthèse utilisez `maj+tab`\n",
    "- Sur Google : Tapez *pandas* et le *nom de la méthode*, le premier lien est la doc"
   ]
  },
  {
   "cell_type": "code",
   "execution_count": 11,
   "metadata": {},
   "outputs": [
    {
     "data": {
      "text/html": [
       "<div>\n",
       "<style scoped>\n",
       "    .dataframe tbody tr th:only-of-type {\n",
       "        vertical-align: middle;\n",
       "    }\n",
       "\n",
       "    .dataframe tbody tr th {\n",
       "        vertical-align: top;\n",
       "    }\n",
       "\n",
       "    .dataframe thead th {\n",
       "        text-align: right;\n",
       "    }\n",
       "</style>\n",
       "<table border=\"1\" class=\"dataframe\">\n",
       "  <thead>\n",
       "    <tr style=\"text-align: right;\">\n",
       "      <th></th>\n",
       "      <th>Vitesse_Vent_Moyen_10min</th>\n",
       "      <th>Humidite</th>\n",
       "      <th>Precipitation_derniere_heure</th>\n",
       "      <th>Temperature_dC</th>\n",
       "      <th>Altitude</th>\n",
       "      <th>Longitude</th>\n",
       "      <th>Latitude</th>\n",
       "    </tr>\n",
       "  </thead>\n",
       "  <tbody>\n",
       "    <tr>\n",
       "      <th>count</th>\n",
       "      <td>207336.000000</td>\n",
       "      <td>210828.000000</td>\n",
       "      <td>175642.000000</td>\n",
       "      <td>210867.000000</td>\n",
       "      <td>210926.000000</td>\n",
       "      <td>210926.000000</td>\n",
       "      <td>210926.000000</td>\n",
       "    </tr>\n",
       "    <tr>\n",
       "      <th>mean</th>\n",
       "      <td>4.251925</td>\n",
       "      <td>71.855446</td>\n",
       "      <td>0.078973</td>\n",
       "      <td>10.887127</td>\n",
       "      <td>104.780539</td>\n",
       "      <td>21.073080</td>\n",
       "      <td>29.607526</td>\n",
       "    </tr>\n",
       "    <tr>\n",
       "      <th>std</th>\n",
       "      <td>3.730084</td>\n",
       "      <td>18.514380</td>\n",
       "      <td>0.555887</td>\n",
       "      <td>11.286227</td>\n",
       "      <td>100.012238</td>\n",
       "      <td>45.385314</td>\n",
       "      <td>38.533448</td>\n",
       "    </tr>\n",
       "    <tr>\n",
       "      <th>min</th>\n",
       "      <td>0.000000</td>\n",
       "      <td>1.000000</td>\n",
       "      <td>-0.100000</td>\n",
       "      <td>-34.400000</td>\n",
       "      <td>9.000000</td>\n",
       "      <td>-4.412000</td>\n",
       "      <td>-66.663167</td>\n",
       "    </tr>\n",
       "    <tr>\n",
       "      <th>25%</th>\n",
       "      <td>1.900000</td>\n",
       "      <td>58.000000</td>\n",
       "      <td>0.000000</td>\n",
       "      <td>5.700000</td>\n",
       "      <td>43.000000</td>\n",
       "      <td>-0.691333</td>\n",
       "      <td>43.437667</td>\n",
       "    </tr>\n",
       "    <tr>\n",
       "      <th>50%</th>\n",
       "      <td>3.200000</td>\n",
       "      <td>75.000000</td>\n",
       "      <td>0.000000</td>\n",
       "      <td>11.900000</td>\n",
       "      <td>89.000000</td>\n",
       "      <td>3.149333</td>\n",
       "      <td>45.786833</td>\n",
       "    </tr>\n",
       "    <tr>\n",
       "      <th>75%</th>\n",
       "      <td>5.500000</td>\n",
       "      <td>87.000000</td>\n",
       "      <td>0.000000</td>\n",
       "      <td>18.200000</td>\n",
       "      <td>150.000000</td>\n",
       "      <td>7.640333</td>\n",
       "      <td>48.549500</td>\n",
       "    </tr>\n",
       "    <tr>\n",
       "      <th>max</th>\n",
       "      <td>46.800000</td>\n",
       "      <td>100.000000</td>\n",
       "      <td>59.500000</td>\n",
       "      <td>41.400000</td>\n",
       "      <td>331.000000</td>\n",
       "      <td>140.001000</td>\n",
       "      <td>48.716833</td>\n",
       "    </tr>\n",
       "  </tbody>\n",
       "</table>\n",
       "</div>"
      ],
      "text/plain": [
       "       Vitesse_Vent_Moyen_10min       Humidite  Precipitation_derniere_heure  \\\n",
       "count             207336.000000  210828.000000                 175642.000000   \n",
       "mean                   4.251925      71.855446                      0.078973   \n",
       "std                    3.730084      18.514380                      0.555887   \n",
       "min                    0.000000       1.000000                     -0.100000   \n",
       "25%                    1.900000      58.000000                      0.000000   \n",
       "50%                    3.200000      75.000000                      0.000000   \n",
       "75%                    5.500000      87.000000                      0.000000   \n",
       "max                   46.800000     100.000000                     59.500000   \n",
       "\n",
       "       Temperature_dC       Altitude      Longitude       Latitude  \n",
       "count   210867.000000  210926.000000  210926.000000  210926.000000  \n",
       "mean        10.887127     104.780539      21.073080      29.607526  \n",
       "std         11.286227     100.012238      45.385314      38.533448  \n",
       "min        -34.400000       9.000000      -4.412000     -66.663167  \n",
       "25%          5.700000      43.000000      -0.691333      43.437667  \n",
       "50%         11.900000      89.000000       3.149333      45.786833  \n",
       "75%         18.200000     150.000000       7.640333      48.549500  \n",
       "max         41.400000     331.000000     140.001000      48.716833  "
      ]
     },
     "execution_count": 11,
     "metadata": {},
     "output_type": "execute_result"
    }
   ],
   "source": [
    "df.describe() "
   ]
  },
  {
   "cell_type": "markdown",
   "metadata": {},
   "source": [
    "# **<span style=\"color:#37a871\">Félicitations !</span>**\n",
    "\n",
    "Félicitations vous savez maintenant comment explorer le contenu de vos `DataFrames`!\n",
    "\n",
    "Dans le prochain chapitre vous allez découvrir comment **sélectionner** vos `Series` et les méthodes dédiées pour les explorer ainsi que comment filtrer sur les observations!"
   ]
  },
  {
   "cell_type": "code",
   "execution_count": null,
   "metadata": {},
   "outputs": [],
   "source": []
  }
 ],
 "metadata": {
  "kernelspec": {
   "display_name": "Python 3",
   "language": "python",
   "name": "python3"
  },
  "language_info": {
   "codemirror_mode": {
    "name": "ipython",
    "version": 3
   },
   "file_extension": ".py",
   "mimetype": "text/x-python",
   "name": "python",
   "nbconvert_exporter": "python",
   "pygments_lexer": "ipython3",
   "version": "3.8.3"
  }
 },
 "nbformat": 4,
 "nbformat_minor": 4
}
