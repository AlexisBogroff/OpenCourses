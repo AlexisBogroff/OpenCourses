{
 "cells": [
  {
   "cell_type": "markdown",
   "metadata": {},
   "source": [
    "# **<h1><center><span style=\"color:#3775a8\"><u>SORBONNE DATA ANALYTIC : Features Engineering</u></span></center></h1>**\n",
    "# **<span style=\"color:#3775a8\">Découverte de Pandas</span>**\n",
    "\n",
    "**Bienvenue dans ce module !**\n",
    "\n",
    "Pandas est l'un des packages les plus utilisées pour la manipulation de données en Python bien qu'il en existe d'autres (ex: datatable, vaex, ...).\n",
    "\n",
    "Comme vous l'avez vu dans la vidéo, le features engineering permet de créer de l'information cachée dans vos données et sera souvent l'aspect différenciant de la puissance prédictive. Il n'existe pas de liste exhaustive d'informatoin à créer, le cours a permis d'appréhender des premières bases mais le spectre du features engineering est sans limites.\n",
    "\n",
    "Vous allez voir dans cette formation comment utiliser pandas pour **créer de la valeur ajoutée à vos données** de manière à accroitre le pouvoir prédictif intitial.\n",
    "Vous allez reprendre le travail précédent auquel vous allez rajouter de l'information issue de features engineering.\n",
    "\n",
    "Avant toutes choses, voici les packages et les versions que j'utilise: \n",
    "- numpy==1.19.1\n",
    "- pandas==1.1.0\n",
    "\n",
    "**Attention**, si vous n'avez pas strictement les même, il est possible que vos output ne soient pas exactement les mêmes !\n",
    "\n",
    "## **<span style=\"color:#3775a8\">0. Importer les packages + bases de données</span>**"
   ]
  },
  {
   "cell_type": "code",
   "execution_count": null,
   "metadata": {},
   "outputs": [],
   "source": [
    "import numpy as np\n",
    "import pandas as pd\n",
    "import datetime\n",
    "import warnings\n",
    "warnings.filterwarnings('ignore')\n",
    "\n",
    "path_data = '~/Mettez/Votre/Chemin/Data/'"
   ]
  },
  {
   "cell_type": "code",
   "execution_count": null,
   "metadata": {},
   "outputs": [],
   "source": [
    "train = pd.read_csv(path_data + 'train.csv')\n",
    "validation = pd.read_csv(path_data + 'validation.csv')\n",
    "test = pd.read_csv(path_data + 'test.csv')\n",
    "\n",
    "train['Date'] = pd.to_datetime(train['Date'], format=\"%Y-%m-%dT%H:%M:%S\")\n",
    "validation['Date'] = pd.to_datetime(validation['Date'], format=\"%Y-%m-%dT%H:%M:%S\")\n",
    "test['Date'] = pd.to_datetime(test['Date'], format=\"%Y-%m-%dT%H:%M:%S\")\n",
    "\n",
    "print(train.dtypes)\n",
    "train.sample(n=10, random_state=893717398)"
   ]
  },
  {
   "cell_type": "markdown",
   "metadata": {},
   "source": [
    "## **<span style=\"color:#3775a8\">1. Calculs sur les dates</span>**\n",
    "Vous allez créer 1 variable à partir de la date:\n",
    "- la variable **Mois** représentant le mois de la date"
   ]
  },
  {
   "cell_type": "code",
   "execution_count": null,
   "metadata": {},
   "outputs": [],
   "source": [
    "train['Mois'] = train['Date'].dt.month"
   ]
  },
  {
   "cell_type": "markdown",
   "metadata": {},
   "source": [
    "## **<span style=\"color:#3775a8\">2. Création de features à partir d'autres features</span>**\n",
    "Vous allez créer 2 variables de ratio:\n",
    "- la variable **Temp_Hum** représentant la température divisée par l'humidité\n",
    "- la variable **Semestre** ayant la valeur 0 pour le premier semestre et 1 pour le second semestre construite à partir de **Mars**"
   ]
  },
  {
   "cell_type": "code",
   "execution_count": null,
   "metadata": {},
   "outputs": [],
   "source": [
    "train['Temp_Hum'] = train['Temperature_dC'] / train['Humidite']\n",
    "train['Semestre'] = np.where(train['Mois']<=6, 0, 1)"
   ]
  },
  {
   "cell_type": "markdown",
   "metadata": {},
   "source": [
    "## **<span style=\"color:#3775a8\">3. Discrétiser des variables continues</span>**\n",
    "Si chaque ligne représent"
   ]
  },
  {
   "cell_type": "code",
   "execution_count": null,
   "metadata": {},
   "outputs": [],
   "source": [
    "def discretise_temperature(x):\n",
    "    if x < -5:\n",
    "        return 'Tres_Froid'\n",
    "    elif x < 0:\n",
    "        return 'Froid_Negatif'\n",
    "    elif x < 5:\n",
    "        return 'Froid_Positif'\n",
    "    elif x < 15:\n",
    "        return 'Froid'\n",
    "    elif x < 20:\n",
    "        return 'Doux'\n",
    "    elif x < 25:\n",
    "        return 'Ideal'\n",
    "    elif x < 30:\n",
    "        return 'Chaud'\n",
    "    elif x < 35:\n",
    "        return 'Tres_Chaud'\n",
    "    else:\n",
    "        return 'Canicule'\n",
    "    \n",
    "def discretise_humidite(x):\n",
    "    if x < 60:\n",
    "        return 'Sec'\n",
    "    if x < 96:\n",
    "        return 'Humide'\n",
    "    else:\n",
    "        return 'Pluie'\n",
    "    \n",
    "train['Temperature_Discret'] = train['Temperature_dC'].apply(lambda x: discretise_temperature(x))\n",
    "train['Humidite_Discret'] = train['Humidite'].apply(lambda x: discretise_humidite(x))"
   ]
  },
  {
   "cell_type": "markdown",
   "metadata": {},
   "source": [
    "## **<span style=\"color:#3775a8\">4. Agrégation de données</span>**\n",
    "Ici vous allez agréger de l'information provenant des deux variables catégorielles que vous avez créé précedemment. Cette information représentera pour chaque paire possible la température médiane que vous stockerez dans une base de donnée appelée base_temperature_agregee."
   ]
  },
  {
   "cell_type": "code",
   "execution_count": null,
   "metadata": {},
   "outputs": [],
   "source": [
    "base_temperature_agregee = train.groupby(by=['Temperature_Discret', 'Humidite_Discret'])['Temperature_dC'].median().reset_index()\n",
    "base_temperature_agregee.columns = ['Temperature_Discret', 'Humidite_Discret', 'Temperature_Agregee']"
   ]
  },
  {
   "cell_type": "markdown",
   "metadata": {},
   "source": [
    "## **<span style=\"color:#3775a8\">5. Ajouter des variables venant d'autres bases</span>**\n",
    "A présent, vous allez fusionner votre base de train avec la base crée précédement et pour cela, la clé de jointure sera **Temperature_Discret** et **Humidite_Discret**.\n",
    "Notez, que vous auriez pu ne pas passer par l'étape de merge pour cette tâche mais ici, l'objectif est de vous introduire et faire pratiquer cette notion de jointure."
   ]
  },
  {
   "cell_type": "code",
   "execution_count": null,
   "metadata": {},
   "outputs": [],
   "source": [
    "train= train.merge(base_temperature_agregee, on=['Temperature_Discret', 'Humidite_Discret'], how='left')"
   ]
  },
  {
   "cell_type": "markdown",
   "metadata": {},
   "source": [
    "## **<span style=\"color:#3775a8\">6. Création de features à partir d'autres features</span>**\n",
    "Vous voyez qu'il est toujours possible de continuer de créer de nouvelles features et comme vous le savez à présent, le features engineering peut être très long car il n'a pas de limites!\n",
    "Ici, vous allez créer le ratio **Variation_Temperature** entre la **Temperature_dC** et la **Temperature_Agregee** afin de voir où la température de l'observation se situe vis à vis d'une température médiane agrégée selon des niveaux de température et d'humidité généraux."
   ]
  },
  {
   "cell_type": "code",
   "execution_count": null,
   "metadata": {},
   "outputs": [],
   "source": [
    "train['Variation_Temperature'] = train['Temperature_dC'] / train['Temperature_Agregee']\n",
    "train.sample(n=10, random_state=893717398)"
   ]
  },
  {
   "cell_type": "markdown",
   "metadata": {},
   "source": [
    "## **<span style=\"color:#3775a8\">7. Création de features automatiques</span>**\n",
    "Je ne vais pas aborder ce point dans le notebook, mais pour rappel il existe des packages comme featuretools qui permettent de générer automatiquement une multitude de variables.\n",
    "\n",
    "\n",
    "## **<span style=\"color:#3775a8\">8. Les nouvelles features doivent être nettoyées</span>**\n",
    "Au cours de ce notebook, vous avez créé 7 nouvelles variables alors qu'il n'y en avait que 3 qui étaient directement utilisables. Sachez que vous pourriez toujours en créer davantage comme par exemple en créant une variable liée à l'heure puis créer une variable catégorielle selon qu'il fasse jour ou nuit, etc. A présent, il est nécessaire de nettoyer ces nouvelles variables en suivant la méthodologie du cours précédent.\n",
    "\n",
    "Vous pourrez vous exercés au nettoyage de ces nouvelles données en allant plus loin que précédement compte tenu que vous avez à présent des variables catégorielles, où vous pourrez faire des regroupements, tester les corrélations, encoder, etc.\n",
    "Pour rappel, seulement les variables numériques pourront être utilisées pour faire la modélisation !\n",
    "\n",
    "# **<span style=\"color:#37a871\">Félicitations !</span>**"
   ]
  }
 ],
 "metadata": {
  "kernelspec": {
   "display_name": "Python 3",
   "language": "python",
   "name": "python3"
  },
  "language_info": {
   "codemirror_mode": {
    "name": "ipython",
    "version": 3
   },
   "file_extension": ".py",
   "mimetype": "text/x-python",
   "name": "python",
   "nbconvert_exporter": "python",
   "pygments_lexer": "ipython3",
   "version": "3.7.3"
  }
 },
 "nbformat": 4,
 "nbformat_minor": 4
}
