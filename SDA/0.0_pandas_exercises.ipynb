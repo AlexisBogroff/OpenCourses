{
 "cells": [
  {
   "cell_type": "markdown",
   "metadata": {},
   "source": [
    "<center><img src=\"msc/sda_banner.png\" width=\"850\" height=\"200\"></center>"
   ]
  },
  {
   "cell_type": "markdown",
   "metadata": {},
   "source": [
    "# Data Management - Part I"
   ]
  },
  {
   "cell_type": "markdown",
   "metadata": {},
   "source": [
    "Core concepts of Series and DataFrames to train on:\n",
    "- create a Series / DataFrame\n",
    "- delete a Series / DataFrame\n",
    "- add an element\n",
    "- delete an element\n",
    "- retrieve an element\n",
    "- modify an element\n",
    "\n",
    "These can be done for a single element or for multiple elements as seen in the course.\n"
   ]
  },
  {
   "cell_type": "markdown",
   "metadata": {},
   "source": [
    "## Introduction"
   ]
  },
  {
   "cell_type": "markdown",
   "metadata": {},
   "source": [
    "In this series of exercises we are going to follow the adventures of a young robot endowed with capacity to feel emotions named \"Eoki\". Eoki can learn fast, but is also a sensible HR (Human-Robot), so please be gentle!"
   ]
  },
  {
   "cell_type": "markdown",
   "metadata": {},
   "source": [
    "<center><img src=\"msc/Eoki_base.png\" width=\"100\" height=\"100\"></center>"
   ]
  },
  {
   "cell_type": "markdown",
   "metadata": {},
   "source": [
    "Eoki loves animals, but its favorites are pandas! You are going to help Eoki find where its pandas friends are located, ensure they are in a good shape and in a safe environment with enough healthy food."
   ]
  },
  {
   "cell_type": "markdown",
   "metadata": {},
   "source": [
    "## 1.1 - Import & Explore"
   ]
  },
  {
   "cell_type": "markdown",
   "metadata": {},
   "source": [
    "Eoki heard in the news that it was possible to transport animals on large distances by communicating through an API (Application Programming Interface) with a cloud platform specialized in autonomous drones. Yes, Eoki too has started to learn Python since it enables infinite possibilities in its world!\n",
    "\n",
    "Eoki would like to protect the remaining pandas from Earth by importing the pandas in its country, the last country without frequent wars on Earth. You can help Eoki by running a single line of Python to import pandas to its country."
   ]
  },
  {
   "cell_type": "markdown",
   "metadata": {},
   "source": [
    "**Q1: Import the pandas package. For convinience, we would like to use an alias for this package, let's use 'pd' like the whole Python community**"
   ]
  },
  {
   "cell_type": "code",
   "execution_count": 2,
   "metadata": {},
   "outputs": [],
   "source": [
    "## ------- YOUR CODE HERE ------- ##\n",
    "import pandas as pd"
   ]
  },
  {
   "cell_type": "markdown",
   "metadata": {},
   "source": [
    "It seems that a lot of pandas have been imported! Let's check that they properly landed"
   ]
  },
  {
   "cell_type": "markdown",
   "metadata": {},
   "source": [
    "**Q2: Verify by any mean that the package has been correctly imported**  \n",
    "Hint :If the import failed, it should have throw an error, or the methods should not be working."
   ]
  },
  {
   "cell_type": "code",
   "execution_count": 3,
   "metadata": {},
   "outputs": [
    {
     "name": "stdout",
     "output_type": "stream",
     "text": [
      "<module 'pandas' from '/Users/alexisbogroff/Installs/miniforge3/envs/eda/lib/python3.9/site-packages/pandas/__init__.py'>\n"
     ]
    }
   ],
   "source": [
    "## ------- YOUR CODE HERE ------- ##\n",
    "print(pd)"
   ]
  },
  {
   "cell_type": "markdown",
   "metadata": {},
   "source": [
    "Even though it is not yet possible for Eoki to see them, some information were transmitted by the cloud platform about each pandas:\n",
    "- age\n",
    "- size\n",
    "- weight"
   ]
  },
  {
   "cell_type": "markdown",
   "metadata": {},
   "source": [
    "**Q3: Create a pandas Series for each variable (age, size, weight):**\n",
    "- age:    2,   5,   1,  12,  4\n",
    "- size:   100,  160, 60, 170, 180\n",
    "- weight: 12, 120, 70, 130, 130"
   ]
  },
  {
   "cell_type": "code",
   "execution_count": 77,
   "metadata": {},
   "outputs": [],
   "source": [
    "## ------- YOUR CODE HERE ------- ##\n",
    "age = pd.Series([2, 5, 1, 12, 4])\n",
    "size = pd.Series([100, 160, 60, 170, 180])\n",
    "weight = pd.Series([12, 120, 60, 130, 130])"
   ]
  },
  {
   "cell_type": "markdown",
   "metadata": {},
   "source": [
    "Eoki would like to know these pandas before it can see them. Thus, Eoki is diving into the data that have been transfered in order to mentally visualize these nice pandas. Also, it would like to give them names. I told you, Eoki has feelings :)"
   ]
  },
  {
   "cell_type": "markdown",
   "metadata": {},
   "source": [
    "**Q4: Rename the index of each series with the following names (in that order):**\n",
    "- foo\n",
    "- bar\n",
    "- lazy\n",
    "- greedy\n",
    "- kwargs"
   ]
  },
  {
   "cell_type": "code",
   "execution_count": 78,
   "metadata": {},
   "outputs": [],
   "source": [
    "## ------- YOUR CODE HERE ------- ##\n",
    "age.index = ['foo', 'bar', 'lazy', 'greedy', 'kwargs']\n",
    "size.index = ['foo', 'bar', 'lazy', 'greedy', 'kwargs']\n",
    "weight.index = ['foo', 'bar', 'lazy', 'greedy', 'kwargs']"
   ]
  },
  {
   "cell_type": "markdown",
   "metadata": {},
   "source": [
    "Woow, these are strange names. Eoki is a robot in the end, please don't judge it."
   ]
  },
  {
   "cell_type": "markdown",
   "metadata": {},
   "source": [
    "Let's try to understand why Eoki chose those names:\n",
    "- it seems for the first and second that Eoki lacked some inspiration. Indeed, in the Python community, tutorials and reference documentations usually use *foo* and *bar* as variable names when explaining a code snippet (little portion of code).\n",
    "- lazy often refers to programs that do the minimum of work.\n",
    "- greedy are the opposite of lazy programs, they do all the possible work, a kind of overzealous worker.\n",
    "- kwargs, well, let's talk about that directly with your tutors"
   ]
  },
  {
   "cell_type": "markdown",
   "metadata": {},
   "source": [
    "**Q5: Display the name, age, size and weight of the first pandas in the series**  \n",
    "Expected output: The first pandas 'foo' is 2 old, 20 tall and weights 40"
   ]
  },
  {
   "cell_type": "code",
   "execution_count": 79,
   "metadata": {},
   "outputs": [
    {
     "name": "stdout",
     "output_type": "stream",
     "text": [
      "The first pandas 'foo' is 2 old, 100 tall and weights 12\n",
      "The first pandas 'foo' is 2 old, 100 tall and weights 12\n",
      "The first pandas 'foo' is 2 old, 100 tall and weights 12\n"
     ]
    }
   ],
   "source": [
    "## ------- YOUR CODE HERE ------- ##\n",
    "print(f\"The first pandas '{age.index[0]}' is {age[0]} old, {size[0]} tall and weights {weight[0]}\")\n",
    "print(f\"The first pandas '{age.index[0]}' is {age.iloc[0]} old, {size.iloc[0]} tall and weights {weight.iloc[0]}\")\n",
    "print(f\"The first pandas '{age.index[0]}' is {age.loc[age.index[0]]} old, {size.loc[age.index[0]]} tall and weights {weight.loc[age.index[0]]}\")"
   ]
  },
  {
   "cell_type": "markdown",
   "metadata": {},
   "source": [
    "According to [some articles](https://www.chinahighlights.com/giant-panda/life-cycle.htm) this pandas seems in the norm. No doubt Eoki named it *foo* because it is standard!"
   ]
  },
  {
   "cell_type": "markdown",
   "metadata": {},
   "source": [
    "**Q6: Display the name, age, size and weight of the second pandas in the series**  \n",
    "Expected: The second pandas 'bar' is 5 year(s) old, 160 tall and weights 120"
   ]
  },
  {
   "cell_type": "code",
   "execution_count": 80,
   "metadata": {},
   "outputs": [
    {
     "name": "stdout",
     "output_type": "stream",
     "text": [
      "The second pandas 'bar' is 5 year(s) old, 160 tall and weights 120\n"
     ]
    }
   ],
   "source": [
    "## ------- YOUR CODE HERE ------- ##\n",
    "print(f\"The second pandas '{age.index[1]}' is {age[1]} year(s) old, {size[1]} tall and weights {weight[1]}\")"
   ]
  },
  {
   "cell_type": "markdown",
   "metadata": {},
   "source": [
    "**Q7: Display the name, age, size and weight of the second pandas in the series**  \n",
    "Expected: The third pandas 'lazy' is 1 year(s) old, 60 tall and weights 70"
   ]
  },
  {
   "cell_type": "code",
   "execution_count": 81,
   "metadata": {},
   "outputs": [
    {
     "name": "stdout",
     "output_type": "stream",
     "text": [
      "The third pandas 'lazy' is 1 year(s) old, 60 tall and weights 60\n"
     ]
    }
   ],
   "source": [
    "## ------- YOUR CODE HERE ------- ##\n",
    "print(f\"The third pandas '{age.index[2]}' is {age[2]} year(s) old, {size[2]} tall and weights {weight[2]}\")"
   ]
  },
  {
   "cell_type": "markdown",
   "metadata": {},
   "source": [
    "Woooow! This is not a job for lazy robots, doing it over again for each pandas is quite boring, nor is it beautiful. Isn't everything about beauty in the end?"
   ]
  },
  {
   "cell_type": "markdown",
   "metadata": {},
   "source": [
    "**Q8: Display the name, age, size and weight for all the pandas! Try to use as few code words as possible**  \n",
    "Expected:  \n",
    "The pandas n°0 called 'foo' is 2 year(s) old, 20 tall and weights 40  \n",
    "The pandas n°1 called 'bar' is 5 year(s) old, 160 tall and weights 120  \n",
    "The pandas n°2 called 'lazy' is 1 year(s) old, 60 tall and weights 70  \n",
    "The pandas n°3 called 'greedy' is 12 year(s) old, 170 tall and weights 130  \n",
    "The pandas n°4 called 'kwargs' is 4 year(s) old, 180 tall and weights 130  "
   ]
  },
  {
   "cell_type": "code",
   "execution_count": 82,
   "metadata": {},
   "outputs": [
    {
     "name": "stdout",
     "output_type": "stream",
     "text": [
      "The pandas n°0 called 'foo' is 2 year(s) old, 100 tall and weights 12\n",
      "The pandas n°1 called 'bar' is 5 year(s) old, 160 tall and weights 120\n",
      "The pandas n°2 called 'lazy' is 1 year(s) old, 60 tall and weights 60\n",
      "The pandas n°3 called 'greedy' is 12 year(s) old, 170 tall and weights 130\n",
      "The pandas n°4 called 'kwargs' is 4 year(s) old, 180 tall and weights 130\n"
     ]
    }
   ],
   "source": [
    "## ------- YOUR CODE HERE ------- ##\n",
    "# V1.1\n",
    "for i, pandas_name in enumerate(age.index):\n",
    "    print(f\"The pandas n°{i} called '{pandas_name}' is {age.loc[pandas_name]} year(s) old, {size.loc[pandas_name]} tall and weights {weight.loc[pandas_name]}\")"
   ]
  },
  {
   "cell_type": "code",
   "execution_count": 83,
   "metadata": {},
   "outputs": [
    {
     "name": "stdout",
     "output_type": "stream",
     "text": [
      "The pandas n°0 called 'foo' is 2 year(s) old, 100 tall and weights 12\n",
      "The pandas n°1 called 'bar' is 5 year(s) old, 160 tall and weights 120\n",
      "The pandas n°2 called 'lazy' is 1 year(s) old, 60 tall and weights 60\n",
      "The pandas n°3 called 'greedy' is 12 year(s) old, 170 tall and weights 130\n",
      "The pandas n°4 called 'kwargs' is 4 year(s) old, 180 tall and weights 130\n"
     ]
    }
   ],
   "source": [
    "# V1.2\n",
    "for i, _ in enumerate(age.index):\n",
    "    print(f\"The pandas n°{i} called '{age.index[i]}' is {age[i]} year(s) old, {size[i]} tall and weights {weight[i]}\")"
   ]
  },
  {
   "cell_type": "markdown",
   "metadata": {},
   "source": [
    "Great! That's quicker to implement and to modify, it is scalable to million of pandas. We Data Scientists and coders like these principles! (it is also a curse, beware not to over-optimize every bit of code 👿👹🤡)\n",
    "\n",
    "Still, don't you feel that should be even simpler? (am I in the danger zone of over-optimization? Not this time)"
   ]
  },
  {
   "cell_type": "markdown",
   "metadata": {},
   "source": [
    "**Q9: Create a pandas DataFrame that contains the series aforementioned. The index of this DataFrame should be the name of the pandas. You can name this variable *'saved_pandas'***"
   ]
  },
  {
   "cell_type": "code",
   "execution_count": 84,
   "metadata": {},
   "outputs": [],
   "source": [
    "## ------- YOUR CODE HERE ------- ##\n",
    "saved_pandas = pd.DataFrame({'Age': age, 'Size': size, 'Weight': weight})"
   ]
  },
  {
   "cell_type": "code",
   "execution_count": 85,
   "metadata": {},
   "outputs": [
    {
     "data": {
      "text/html": "<div>\n<style scoped>\n    .dataframe tbody tr th:only-of-type {\n        vertical-align: middle;\n    }\n\n    .dataframe tbody tr th {\n        vertical-align: top;\n    }\n\n    .dataframe thead th {\n        text-align: right;\n    }\n</style>\n<table border=\"1\" class=\"dataframe\">\n  <thead>\n    <tr style=\"text-align: right;\">\n      <th></th>\n      <th>Age</th>\n      <th>Size</th>\n      <th>Weight</th>\n    </tr>\n  </thead>\n  <tbody>\n    <tr>\n      <th>foo</th>\n      <td>2</td>\n      <td>100</td>\n      <td>12</td>\n    </tr>\n    <tr>\n      <th>bar</th>\n      <td>5</td>\n      <td>160</td>\n      <td>120</td>\n    </tr>\n    <tr>\n      <th>lazy</th>\n      <td>1</td>\n      <td>60</td>\n      <td>60</td>\n    </tr>\n    <tr>\n      <th>greedy</th>\n      <td>12</td>\n      <td>170</td>\n      <td>130</td>\n    </tr>\n    <tr>\n      <th>kwargs</th>\n      <td>4</td>\n      <td>180</td>\n      <td>130</td>\n    </tr>\n  </tbody>\n</table>\n</div>",
      "text/plain": "        Age  Size  Weight\nfoo       2   100      12\nbar       5   160     120\nlazy      1    60      60\ngreedy   12   170     130\nkwargs    4   180     130"
     },
     "execution_count": 85,
     "metadata": {},
     "output_type": "execute_result"
    }
   ],
   "source": [
    "saved_pandas"
   ]
  },
  {
   "cell_type": "markdown",
   "metadata": {},
   "source": [
    "Now that you have a better view of your data, can you tell why '*lazy*' might be a lazy pandas?"
   ]
  },
  {
   "cell_type": "markdown",
   "metadata": {},
   "source": [
    "**Q10: Analyze your data and provide a plausible explanation**"
   ]
  },
  {
   "cell_type": "markdown",
   "metadata": {},
   "source": [
    "------- YOUR ANSWER HERE -------\n",
    "\n",
    "Lazy pandas might be lazy, or more precisely very inefficient, because it's only aged 1. It is a baby, who could blame *lazy* pandas to dispense with the meal and dishes?"
   ]
  },
  {
   "cell_type": "markdown",
   "metadata": {},
   "source": [
    "Eoki still needs you to know better this group of newly arrived pandas. Can you help it?"
   ]
  },
  {
   "cell_type": "markdown",
   "metadata": {},
   "source": [
    "**Q11: Compute and display the average age, size and weight**"
   ]
  },
  {
   "cell_type": "code",
   "execution_count": 86,
   "metadata": {},
   "outputs": [
    {
     "data": {
      "text/plain": "Age         4.8\nSize      134.0\nWeight     90.4\ndtype: float64"
     },
     "execution_count": 86,
     "metadata": {},
     "output_type": "execute_result"
    }
   ],
   "source": [
    "## ------- YOUR CODE HERE ------- ##\n",
    "saved_pandas.mean()"
   ]
  },
  {
   "cell_type": "markdown",
   "metadata": {},
   "source": [
    "**Q12: Compute and display the maximum age, size and weight**"
   ]
  },
  {
   "cell_type": "code",
   "execution_count": 87,
   "metadata": {},
   "outputs": [
    {
     "data": {
      "text/plain": "Age        12\nSize      180\nWeight    130\ndtype: int64"
     },
     "execution_count": 87,
     "metadata": {},
     "output_type": "execute_result"
    }
   ],
   "source": [
    "## ------- YOUR CODE HERE ------- ##\n",
    "saved_pandas.max()"
   ]
  },
  {
   "cell_type": "markdown",
   "metadata": {},
   "source": [
    "**Q13: Compute and display: the minimum, maximum, mean of these factors in a single line of code**\n",
    "\n",
    "Hint: you can find help in the [pandas API reference](https://pandas.pydata.org/docs/reference/index.html) (even it can be scary at first). Look for '*Computations / descriptive stats*'."
   ]
  },
  {
   "cell_type": "code",
   "execution_count": 88,
   "metadata": {},
   "outputs": [
    {
     "data": {
      "text/html": "<div>\n<style scoped>\n    .dataframe tbody tr th:only-of-type {\n        vertical-align: middle;\n    }\n\n    .dataframe tbody tr th {\n        vertical-align: top;\n    }\n\n    .dataframe thead th {\n        text-align: right;\n    }\n</style>\n<table border=\"1\" class=\"dataframe\">\n  <thead>\n    <tr style=\"text-align: right;\">\n      <th></th>\n      <th>Age</th>\n      <th>Size</th>\n      <th>Weight</th>\n    </tr>\n  </thead>\n  <tbody>\n    <tr>\n      <th>count</th>\n      <td>5.00000</td>\n      <td>5.000000</td>\n      <td>5.000000</td>\n    </tr>\n    <tr>\n      <th>mean</th>\n      <td>4.80000</td>\n      <td>134.000000</td>\n      <td>90.400000</td>\n    </tr>\n    <tr>\n      <th>std</th>\n      <td>4.32435</td>\n      <td>51.768716</td>\n      <td>52.638389</td>\n    </tr>\n    <tr>\n      <th>min</th>\n      <td>1.00000</td>\n      <td>60.000000</td>\n      <td>12.000000</td>\n    </tr>\n    <tr>\n      <th>25%</th>\n      <td>2.00000</td>\n      <td>100.000000</td>\n      <td>60.000000</td>\n    </tr>\n    <tr>\n      <th>50%</th>\n      <td>4.00000</td>\n      <td>160.000000</td>\n      <td>120.000000</td>\n    </tr>\n    <tr>\n      <th>75%</th>\n      <td>5.00000</td>\n      <td>170.000000</td>\n      <td>130.000000</td>\n    </tr>\n    <tr>\n      <th>max</th>\n      <td>12.00000</td>\n      <td>180.000000</td>\n      <td>130.000000</td>\n    </tr>\n  </tbody>\n</table>\n</div>",
      "text/plain": "            Age        Size      Weight\ncount   5.00000    5.000000    5.000000\nmean    4.80000  134.000000   90.400000\nstd     4.32435   51.768716   52.638389\nmin     1.00000   60.000000   12.000000\n25%     2.00000  100.000000   60.000000\n50%     4.00000  160.000000  120.000000\n75%     5.00000  170.000000  130.000000\nmax    12.00000  180.000000  130.000000"
     },
     "execution_count": 88,
     "metadata": {},
     "output_type": "execute_result"
    }
   ],
   "source": [
    "## ------- YOUR CODE HERE ------- ##\n",
    "saved_pandas.describe()"
   ]
  },
  {
   "cell_type": "markdown",
   "metadata": {},
   "source": [
    "**Q14: Compute and display the standard deviation of these factors**"
   ]
  },
  {
   "cell_type": "code",
   "execution_count": 89,
   "metadata": {},
   "outputs": [
    {
     "data": {
      "text/plain": "Age        4.324350\nSize      51.768716\nWeight    52.638389\ndtype: float64"
     },
     "execution_count": 89,
     "metadata": {},
     "output_type": "execute_result"
    }
   ],
   "source": [
    "## ------- YOUR CODE HERE ------- ##\n",
    "saved_pandas.std()"
   ]
  },
  {
   "cell_type": "markdown",
   "metadata": {},
   "source": [
    "Let's produce a cleaner output. Do we really need a precision of 6 digits (4.324350)? Don't think so. Let's reduce that to a precision of 2 digits (4.32)"
   ]
  },
  {
   "cell_type": "markdown",
   "metadata": {},
   "source": [
    "**Q15: Compute and display the same standard deviation with a precision of 2**"
   ]
  },
  {
   "cell_type": "code",
   "execution_count": 90,
   "metadata": {},
   "outputs": [
    {
     "data": {
      "text/plain": "Age        4.32\nSize      51.77\nWeight    52.64\ndtype: float64"
     },
     "execution_count": 90,
     "metadata": {},
     "output_type": "execute_result"
    }
   ],
   "source": [
    "## ------- YOUR CODE HERE ------- ##\n",
    "saved_pandas.std().round(2)"
   ]
  },
  {
   "cell_type": "markdown",
   "metadata": {},
   "source": [
    "Hummmm nice! Eoki is very grateful for your help.\n",
    "\n",
    "Oh no! It seems however that Eoki is disturbed by something. A pandas seems in a very bad shape. Eoki is too disturbed to even give you the name of this pandas. Which pandas is it, have you seen it while you were producing this descriptive analysis? What is the problem?"
   ]
  },
  {
   "cell_type": "markdown",
   "metadata": {},
   "source": [
    "**Q16: Find out what could make Eoki so sad**  \n",
    "Hint: is a pandas about to die? How could one know about that without a life spent studying pandas?"
   ]
  },
  {
   "cell_type": "markdown",
   "metadata": {},
   "source": [
    "------- YOUR ANSWER HERE -------\n",
    "\n",
    "The pandas *foo* is 2 years old but seems very, very thin. Actually, 20kg at 2 years old seems even impossible. Is it? One should find more information on the internet or ask an expert to be able to judge.\n"
   ]
  },
  {
   "cell_type": "markdown",
   "metadata": {},
   "source": [
    "If you didn't see it, it is quite normal. That is another curse of Data Analysts / Scientists, well, mostly at the beginning. You were so eager to help, you deep dived into the code, and forgot about the big picture. It is important to frequently take a step back and think about the coherence of our code outputs."
   ]
  }
 ],
 "metadata": {
  "kernelspec": {
   "display_name": "Python 3.9.2 64-bit ('eda': conda)",
   "name": "python392jvsc74a57bd0143a8234bd608e0b612203721941a09deaaeca24e144d77d0b745dc3344134be"
  },
  "language_info": {
   "codemirror_mode": {
    "name": "ipython",
    "version": 3
   },
   "file_extension": ".py",
   "mimetype": "text/x-python",
   "name": "python",
   "nbconvert_exporter": "python",
   "pygments_lexer": "ipython3",
   "version": "3.9.2"
  },
  "metadata": {
   "interpreter": {
    "hash": "143a8234bd608e0b612203721941a09deaaeca24e144d77d0b745dc3344134be"
   }
  },
  "orig_nbformat": 2
 },
 "nbformat": 4,
 "nbformat_minor": 2
}