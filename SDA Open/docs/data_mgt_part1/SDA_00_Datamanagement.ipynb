{
 "cells": [
  {
   "cell_type": "markdown",
   "metadata": {},
   "source": [
    "# **<h1><center><span style=\"color:#3775a8\"><u>SORBONNE DATA ANALYTIC : Le Datamanagement</u></span></center></h1>**\n",
    "# **<span style=\"color:#3775a8\">Découverte de Pandas</span>**\n",
    "\n",
    "**Bienvenue dans ce module !**\n",
    "\n",
    "Pandas est la librairie d'analyse de données incontournables en Python!\n",
    "\n",
    "Pour faire simple, Pandas est en quelque sorte le Excel de Python.\n",
    "\n",
    "Connaitre ce module parfaitement est une tâche difficile :\n",
    "- Il n'y a pas qu'une seule manière d'effectuer une même tache.\n",
    "- Il y a de nombreuses méthodes et attributs.\n",
    "- Certaines méthodes ont des noms différents mais réfèrent exactement au même code.\n",
    "- ...\n",
    "\n",
    "Ce que vous allez voir dans cette formation n'est donc pas l'exhaustivité de ce que Pandas offre mais une partie suffisante pour pouvoir faire notre **DataManagement**.\n",
    "\n",
    "Avant de plonger dans la manipulation de vraies données, vous allez découvrir les deux principales structures de données :\n",
    "- Les Series\n",
    "- Les DataFrames\n",
    "\n",
    "## **<span style=\"color:#3775a8\">1. Découverte des Series</span>**\n",
    "\n",
    "Les series sont des tableaux à une dimension. Il s'agit d'objets mutable, autrement dit ils peuvent être modifiés, vous pouvez ajouter des éléments ou encore en retirer.\n",
    "\n",
    "Les series peuvent contenir des objets de tous types. \n",
    "\n",
    "Vous pouvez les instancier à partir d'un array ou d'un dictionnaire par exemple.\n",
    "\n",
    "### **<span style=\"color:#3775a8\">1.1. Créez votre première Series</span>**"
   ]
  },
  {
   "cell_type": "code",
   "execution_count": 1,
   "metadata": {},
   "outputs": [],
   "source": [
    "# import de pandas\n",
    "import pandas as pd"
   ]
  },
  {
   "cell_type": "code",
   "execution_count": 2,
   "metadata": {},
   "outputs": [
    {
     "data": {
      "text/plain": [
       "0    a\n",
       "dtype: object"
      ]
     },
     "execution_count": 2,
     "metadata": {},
     "output_type": "execute_result"
    }
   ],
   "source": [
    "series = pd.Series(data='a')\n",
    "\n",
    "series"
   ]
  },
  {
   "cell_type": "code",
   "execution_count": 3,
   "metadata": {},
   "outputs": [
    {
     "data": {
      "text/plain": [
       "un        89956\n",
       "deux        996\n",
       "trois         0\n",
       "quatre    54566\n",
       "dtype: int64"
      ]
     },
     "execution_count": 3,
     "metadata": {},
     "output_type": "execute_result"
    }
   ],
   "source": [
    "series = pd.Series(data=[89956, 996, 0, 54566],\n",
    "                   index=['un', 'deux', 'trois', 'quatre'])\n",
    "\n",
    "series"
   ]
  },
  {
   "cell_type": "code",
   "execution_count": 4,
   "metadata": {},
   "outputs": [
    {
     "name": "stdout",
     "output_type": "stream",
     "text": [
      "89956\n",
      "996\n"
     ]
    }
   ],
   "source": [
    "print(series[0]) # Vous pouvez accéder à leurs éléments par position\n",
    "print(series['deux']) # ou par nom"
   ]
  },
  {
   "cell_type": "markdown",
   "metadata": {},
   "source": [
    "### **<span style=\"color:#3775a8\">1.2. Les composants d'une Series</span>**\n",
    "Une series dispose de composants :\n",
    "- L'index\n",
    "- Les données"
   ]
  },
  {
   "cell_type": "code",
   "execution_count": 5,
   "metadata": {},
   "outputs": [
    {
     "name": "stdout",
     "output_type": "stream",
     "text": [
      "L'index de la series est :\n",
      "Index(['un', 'deux', 'trois', 'quatre'], dtype='object')\n",
      "\n",
      "Les données de la series sont :\n",
      "[89956   996     0 54566]\n"
     ]
    }
   ],
   "source": [
    "print(f\"L'index de la series est :\\n{series.index}\")\n",
    "print(\"\")\n",
    "print(f\"Les données de la series sont :\\n{series.values}\") # Avez-vous remarqué que les données sont stockées \n",
    "                                                           # sous forme vectorielle / d'array Numpy (pas de séparateur \",\") ?"
   ]
  },
  {
   "cell_type": "markdown",
   "metadata": {},
   "source": [
    "## **<span style=\"color:#3775a8\">2. Les DataFrames</span>**\n",
    "\n",
    "C'est une structure de données incontournable en DataScience probablement la plus courante!\n",
    "\n",
    "A l'image de ce qui existe en sql ou en Excel, les DataFrame sont des tables faites de colonnes et de lignes.\n",
    "\n",
    "Un DataFrame est simplement un conteneur de Series et tout comme ces dernières il est mutable.\n",
    "\n",
    "### **<span style=\"color:#3775a8\">2.1. Création de votre 1er DataFrame</span>**"
   ]
  },
  {
   "cell_type": "code",
   "execution_count": 6,
   "metadata": {},
   "outputs": [
    {
     "data": {
      "text/html": [
       "<div>\n",
       "<style scoped>\n",
       "    .dataframe tbody tr th:only-of-type {\n",
       "        vertical-align: middle;\n",
       "    }\n",
       "\n",
       "    .dataframe tbody tr th {\n",
       "        vertical-align: top;\n",
       "    }\n",
       "\n",
       "    .dataframe thead th {\n",
       "        text-align: right;\n",
       "    }\n",
       "</style>\n",
       "<table border=\"1\" class=\"dataframe\">\n",
       "  <thead>\n",
       "    <tr style=\"text-align: right;\">\n",
       "      <th></th>\n",
       "      <th>Fruit</th>\n",
       "      <th>Couleur</th>\n",
       "    </tr>\n",
       "  </thead>\n",
       "  <tbody>\n",
       "    <tr>\n",
       "      <th>0</th>\n",
       "      <td>Orange</td>\n",
       "      <td>Orange</td>\n",
       "    </tr>\n",
       "    <tr>\n",
       "      <th>1</th>\n",
       "      <td>Pomme</td>\n",
       "      <td>Rouge</td>\n",
       "    </tr>\n",
       "    <tr>\n",
       "      <th>2</th>\n",
       "      <td>Litchi</td>\n",
       "      <td>Rose</td>\n",
       "    </tr>\n",
       "    <tr>\n",
       "      <th>3</th>\n",
       "      <td>Banane</td>\n",
       "      <td>Jaune</td>\n",
       "    </tr>\n",
       "  </tbody>\n",
       "</table>\n",
       "</div>"
      ],
      "text/plain": [
       "    Fruit Couleur\n",
       "0  Orange  Orange\n",
       "1   Pomme   Rouge\n",
       "2  Litchi    Rose\n",
       "3  Banane   Jaune"
      ]
     },
     "execution_count": 6,
     "metadata": {},
     "output_type": "execute_result"
    }
   ],
   "source": [
    "# Vous allez créer un dataframe à partir d'un dictionnaire\n",
    "d = {'Fruit' : ['Orange', 'Pomme', 'Litchi', 'Banane'],\n",
    "   'Couleur' : ['Orange', 'Rouge', 'Rose', 'Jaune']}\n",
    "\n",
    "myFirstDataFrame = pd.DataFrame(d) # Création du dataframe\n",
    "\n",
    "myFirstDataFrame # Affiche le dataframe"
   ]
  },
  {
   "cell_type": "markdown",
   "metadata": {},
   "source": [
    "### **<span style=\"color:#3775a8\">2.2. Les composants d'un DataFrame</span>**\n",
    "\n",
    "Un DataFrame dispose de 3 composants :\n",
    "- L'index\n",
    "- Les colonnes\n",
    "- Les données"
   ]
  },
  {
   "cell_type": "code",
   "execution_count": 7,
   "metadata": {},
   "outputs": [],
   "source": [
    "# Vous stockez les différents attributs\n",
    "index = myFirstDataFrame.index\n",
    "columns = myFirstDataFrame.columns\n",
    "values = myFirstDataFrame.values"
   ]
  },
  {
   "cell_type": "code",
   "execution_count": 8,
   "metadata": {},
   "outputs": [
    {
     "name": "stdout",
     "output_type": "stream",
     "text": [
      "L'index du DataFrame est :\n",
      "RangeIndex(start=0, stop=4, step=1)\n",
      "\n",
      "Les colonnes du DataFrame sont :\n",
      "Index(['Fruit', 'Couleur'], dtype='object')\n",
      "\n",
      "Les données du DataFrame sont :\n",
      "[['Orange' 'Orange']\n",
      " ['Pomme' 'Rouge']\n",
      " ['Litchi' 'Rose']\n",
      " ['Banane' 'Jaune']]\n"
     ]
    }
   ],
   "source": [
    "print(f\"L'index du DataFrame est :\\n{index}\")\n",
    "print(\"\")\n",
    "print(f\"Les colonnes du DataFrame sont :\\n{columns}\") \n",
    "print(\"\")\n",
    "print(f\"Les données du DataFrame sont :\\n{values}\") "
   ]
  },
  {
   "cell_type": "markdown",
   "metadata": {},
   "source": [
    "# **<span style=\"color:#37a871\">Félicitations !</span>**\n",
    "\n",
    "Félicitations vous savez maintenant comment créer des Series et des DataFrame!\n",
    "\n",
    "Rappelez-vous, ce sont des objets comme les autres. Dans le prochain chapitre vous allez apprendre à les manipuler avec leurs **méthodes** et leurs **attributs**!"
   ]
  },
  {
   "cell_type": "code",
   "execution_count": null,
   "metadata": {},
   "outputs": [],
   "source": []
  }
 ],
 "metadata": {
  "kernelspec": {
   "display_name": "Python 3",
   "language": "python",
   "name": "python3"
  },
  "language_info": {
   "codemirror_mode": {
    "name": "ipython",
    "version": 3
   },
   "file_extension": ".py",
   "mimetype": "text/x-python",
   "name": "python",
   "nbconvert_exporter": "python",
   "pygments_lexer": "ipython3",
   "version": "3.8.3"
  }
 },
 "nbformat": 4,
 "nbformat_minor": 4
}
