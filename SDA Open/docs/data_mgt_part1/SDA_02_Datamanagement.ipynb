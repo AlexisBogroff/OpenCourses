{
 "cells": [
  {
   "cell_type": "markdown",
   "metadata": {},
   "source": [
    "# **<h1><center><span style=\"color:#3775a8\"><u>SORBONNE DATA ANALYTIC : Le Datamanagement</u></span></center></h1>**\n",
    "# **<span style=\"color:#3775a8\">La sélection et les filtres</span>**\n",
    "\n",
    "Bienvenue dans le suite du cours. **Sélectionner** et **filtrer** la données sont des tâches courantes mais il existe différentes manières pour le faire.\n",
    "\n",
    "Quelles sont les techniques à privilégier et pourquoi ? A l'ici de ce notebook vous serez en mesure de vous faire votre propre avis !\n",
    "\n",
    "# **<span style=\"color:#3775a8\">1. La sélection </span>**\n",
    "## **<span style=\"color:#3775a8\">1.1. Sélectionner une colonne </span>**\n",
    "\n",
    "Pour sélectionner une colonne vous pouvez utiliser le `.` les `[\"\"]`. Le résultat est alors identique."
   ]
  },
  {
   "cell_type": "code",
   "execution_count": 1,
   "metadata": {},
   "outputs": [],
   "source": [
    "import pandas as pd # Import de la librairie Pandas"
   ]
  },
  {
   "cell_type": "code",
   "execution_count": 2,
   "metadata": {},
   "outputs": [
    {
     "name": "stdout",
     "output_type": "stream",
     "text": [
      "La base fait 210926 lignes et 10 colonnes\n"
     ]
    },
    {
     "data": {
      "text/html": [
       "<div>\n",
       "<style scoped>\n",
       "    .dataframe tbody tr th:only-of-type {\n",
       "        vertical-align: middle;\n",
       "    }\n",
       "\n",
       "    .dataframe tbody tr th {\n",
       "        vertical-align: top;\n",
       "    }\n",
       "\n",
       "    .dataframe thead th {\n",
       "        text-align: right;\n",
       "    }\n",
       "</style>\n",
       "<table border=\"1\" class=\"dataframe\">\n",
       "  <thead>\n",
       "    <tr style=\"text-align: right;\">\n",
       "      <th></th>\n",
       "      <th>Date</th>\n",
       "      <th>Vitesse_Vent_Moyen_10min</th>\n",
       "      <th>Humidite</th>\n",
       "      <th>Precipitation_derniere_heure</th>\n",
       "      <th>Nom</th>\n",
       "      <th>Temperature_dC</th>\n",
       "      <th>Altitude</th>\n",
       "      <th>Longitude</th>\n",
       "      <th>Latitude</th>\n",
       "      <th>Region</th>\n",
       "    </tr>\n",
       "  </thead>\n",
       "  <tbody>\n",
       "    <tr>\n",
       "      <th>0</th>\n",
       "      <td>2011-01-01 01:00:00</td>\n",
       "      <td>0.0</td>\n",
       "      <td>97.0</td>\n",
       "      <td>0.0</td>\n",
       "      <td>BORDEAUX-MERIGNAC</td>\n",
       "      <td>5.6</td>\n",
       "      <td>47</td>\n",
       "      <td>-0.691333</td>\n",
       "      <td>44.830667</td>\n",
       "      <td>Nouvelle-Aquitaine</td>\n",
       "    </tr>\n",
       "    <tr>\n",
       "      <th>1</th>\n",
       "      <td>2011-01-01 01:00:00</td>\n",
       "      <td>2.1</td>\n",
       "      <td>94.0</td>\n",
       "      <td>0.0</td>\n",
       "      <td>ORLY</td>\n",
       "      <td>-0.7</td>\n",
       "      <td>89</td>\n",
       "      <td>2.384333</td>\n",
       "      <td>48.716833</td>\n",
       "      <td>Île-de-France</td>\n",
       "    </tr>\n",
       "    <tr>\n",
       "      <th>2</th>\n",
       "      <td>2011-01-01 01:00:00</td>\n",
       "      <td>0.0</td>\n",
       "      <td>87.0</td>\n",
       "      <td>0.0</td>\n",
       "      <td>MARIGNANE</td>\n",
       "      <td>8.0</td>\n",
       "      <td>9</td>\n",
       "      <td>5.216000</td>\n",
       "      <td>43.437667</td>\n",
       "      <td>Provence-Alpes-Côte d'Azur</td>\n",
       "    </tr>\n",
       "    <tr>\n",
       "      <th>3</th>\n",
       "      <td>2011-01-01 01:00:00</td>\n",
       "      <td>3.1</td>\n",
       "      <td>84.0</td>\n",
       "      <td>NaN</td>\n",
       "      <td>JUAN DE NOVA</td>\n",
       "      <td>27.9</td>\n",
       "      <td>9</td>\n",
       "      <td>42.712000</td>\n",
       "      <td>-17.054667</td>\n",
       "      <td>NaN</td>\n",
       "    </tr>\n",
       "    <tr>\n",
       "      <th>4</th>\n",
       "      <td>2011-01-01 01:00:00</td>\n",
       "      <td>1.0</td>\n",
       "      <td>92.0</td>\n",
       "      <td>0.0</td>\n",
       "      <td>STRASBOURG-ENTZHEIM</td>\n",
       "      <td>-0.4</td>\n",
       "      <td>150</td>\n",
       "      <td>7.640333</td>\n",
       "      <td>48.549500</td>\n",
       "      <td>Grand Est</td>\n",
       "    </tr>\n",
       "  </tbody>\n",
       "</table>\n",
       "</div>"
      ],
      "text/plain": [
       "                 Date  Vitesse_Vent_Moyen_10min  Humidite  \\\n",
       "0 2011-01-01 01:00:00                       0.0      97.0   \n",
       "1 2011-01-01 01:00:00                       2.1      94.0   \n",
       "2 2011-01-01 01:00:00                       0.0      87.0   \n",
       "3 2011-01-01 01:00:00                       3.1      84.0   \n",
       "4 2011-01-01 01:00:00                       1.0      92.0   \n",
       "\n",
       "   Precipitation_derniere_heure                  Nom  Temperature_dC  \\\n",
       "0                           0.0    BORDEAUX-MERIGNAC             5.6   \n",
       "1                           0.0                 ORLY            -0.7   \n",
       "2                           0.0            MARIGNANE             8.0   \n",
       "3                           NaN         JUAN DE NOVA            27.9   \n",
       "4                           0.0  STRASBOURG-ENTZHEIM            -0.4   \n",
       "\n",
       "   Altitude  Longitude   Latitude                      Region  \n",
       "0        47  -0.691333  44.830667          Nouvelle-Aquitaine  \n",
       "1        89   2.384333  48.716833               Île-de-France  \n",
       "2         9   5.216000  43.437667  Provence-Alpes-Côte d'Azur  \n",
       "3         9  42.712000 -17.054667                         NaN  \n",
       "4       150   7.640333  48.549500                   Grand Est  "
      ]
     },
     "execution_count": 2,
     "metadata": {},
     "output_type": "execute_result"
    }
   ],
   "source": [
    "# On importe les données\n",
    "df = pd.read_csv('sda_base_DM.csv') \n",
    "\n",
    "df['Date'] = pd.to_datetime(df['Date']) \n",
    "\n",
    "print(f\"La base fait {df.shape[0]} lignes et {df.shape[1]} colonnes\")\n",
    "\n",
    "df.head()"
   ]
  },
  {
   "cell_type": "code",
   "execution_count": 3,
   "metadata": {},
   "outputs": [
    {
     "data": {
      "text/plain": [
       "0      BORDEAUX-MERIGNAC\n",
       "1                   ORLY\n",
       "2              MARIGNANE\n",
       "3           JUAN DE NOVA\n",
       "4    STRASBOURG-ENTZHEIM\n",
       "Name: Nom, dtype: object"
      ]
     },
     "execution_count": 3,
     "metadata": {},
     "output_type": "execute_result"
    }
   ],
   "source": [
    "df['Nom'].head() # Sélection d'une colonne avec les [\"\"]"
   ]
  },
  {
   "cell_type": "code",
   "execution_count": 4,
   "metadata": {},
   "outputs": [
    {
     "data": {
      "text/plain": [
       "0      BORDEAUX-MERIGNAC\n",
       "1                   ORLY\n",
       "2              MARIGNANE\n",
       "3           JUAN DE NOVA\n",
       "4    STRASBOURG-ENTZHEIM\n",
       "Name: Nom, dtype: object"
      ]
     },
     "execution_count": 4,
     "metadata": {},
     "output_type": "execute_result"
    }
   ],
   "source": [
    "df.Nom.head() # Sélection d'une colonne avec le ."
   ]
  },
  {
   "cell_type": "markdown",
   "metadata": {},
   "source": [
    "Comme vous l'avez vu il préférable d'utiliser `df[\"colname\"]` plutot que `df.colname`. En effet, la technique du `.` présente plusieurs inconvénients :\n",
    "- Si le nom de colonne contient un espace ça ne fonctionne pas.\n",
    "- Si le nom de colonne est identique à celui d'une méthode, c'est problématique.\n",
    "- On ne peut pas utiliser de variable globale comme nom.\n",
    "\n",
    "Il est temps d'illustrer cela."
   ]
  },
  {
   "cell_type": "code",
   "execution_count": 5,
   "metadata": {},
   "outputs": [
    {
     "data": {
      "text/plain": [
       "0            Nouvelle-Aquitaine\n",
       "1                 Île-de-France\n",
       "2    Provence-Alpes-Côte d'Azur\n",
       "3                           NaN\n",
       "4                     Grand Est\n",
       "Name: Region, dtype: object"
      ]
     },
     "execution_count": 5,
     "metadata": {},
     "output_type": "execute_result"
    }
   ],
   "source": [
    "col = \"Region\" # Vous stockez le nom d'une colonne dans une variable\n",
    "\n",
    "df[col].head() # Ca fonctionne"
   ]
  },
  {
   "cell_type": "code",
   "execution_count": 6,
   "metadata": {},
   "outputs": [
    {
     "ename": "AttributeError",
     "evalue": "'DataFrame' object has no attribute 'col'",
     "output_type": "error",
     "traceback": [
      "\u001b[1;31m---------------------------------------------------------------------------\u001b[0m",
      "\u001b[1;31mAttributeError\u001b[0m                            Traceback (most recent call last)",
      "\u001b[1;32m<ipython-input-6-60fcdebae2fa>\u001b[0m in \u001b[0;36m<module>\u001b[1;34m\u001b[0m\n\u001b[1;32m----> 1\u001b[1;33m \u001b[0mdf\u001b[0m\u001b[1;33m.\u001b[0m\u001b[0mcol\u001b[0m\u001b[1;33m.\u001b[0m\u001b[0mhead\u001b[0m\u001b[1;33m(\u001b[0m\u001b[1;33m)\u001b[0m \u001b[1;31m# Ca ne fonctionne pas !\u001b[0m\u001b[1;33m\u001b[0m\u001b[1;33m\u001b[0m\u001b[0m\n\u001b[0m",
      "\u001b[1;32mc:\\applications\\miniconda3\\lib\\site-packages\\pandas\\core\\generic.py\u001b[0m in \u001b[0;36m__getattr__\u001b[1;34m(self, name)\u001b[0m\n\u001b[0;32m   5137\u001b[0m             \u001b[1;32mif\u001b[0m \u001b[0mself\u001b[0m\u001b[1;33m.\u001b[0m\u001b[0m_info_axis\u001b[0m\u001b[1;33m.\u001b[0m\u001b[0m_can_hold_identifiers_and_holds_name\u001b[0m\u001b[1;33m(\u001b[0m\u001b[0mname\u001b[0m\u001b[1;33m)\u001b[0m\u001b[1;33m:\u001b[0m\u001b[1;33m\u001b[0m\u001b[1;33m\u001b[0m\u001b[0m\n\u001b[0;32m   5138\u001b[0m                 \u001b[1;32mreturn\u001b[0m \u001b[0mself\u001b[0m\u001b[1;33m[\u001b[0m\u001b[0mname\u001b[0m\u001b[1;33m]\u001b[0m\u001b[1;33m\u001b[0m\u001b[1;33m\u001b[0m\u001b[0m\n\u001b[1;32m-> 5139\u001b[1;33m             \u001b[1;32mreturn\u001b[0m \u001b[0mobject\u001b[0m\u001b[1;33m.\u001b[0m\u001b[0m__getattribute__\u001b[0m\u001b[1;33m(\u001b[0m\u001b[0mself\u001b[0m\u001b[1;33m,\u001b[0m \u001b[0mname\u001b[0m\u001b[1;33m)\u001b[0m\u001b[1;33m\u001b[0m\u001b[1;33m\u001b[0m\u001b[0m\n\u001b[0m\u001b[0;32m   5140\u001b[0m \u001b[1;33m\u001b[0m\u001b[0m\n\u001b[0;32m   5141\u001b[0m     \u001b[1;32mdef\u001b[0m \u001b[0m__setattr__\u001b[0m\u001b[1;33m(\u001b[0m\u001b[0mself\u001b[0m\u001b[1;33m,\u001b[0m \u001b[0mname\u001b[0m\u001b[1;33m:\u001b[0m \u001b[0mstr\u001b[0m\u001b[1;33m,\u001b[0m \u001b[0mvalue\u001b[0m\u001b[1;33m)\u001b[0m \u001b[1;33m->\u001b[0m \u001b[1;32mNone\u001b[0m\u001b[1;33m:\u001b[0m\u001b[1;33m\u001b[0m\u001b[1;33m\u001b[0m\u001b[0m\n",
      "\u001b[1;31mAttributeError\u001b[0m: 'DataFrame' object has no attribute 'col'"
     ]
    }
   ],
   "source": [
    "df.col.head() # Ca ne fonctionne pas !"
   ]
  },
  {
   "cell_type": "markdown",
   "metadata": {},
   "source": [
    "## **<span style=\"color:#3775a8\">1.2. Explorez le contenu des Series</span>**\n",
    "\n",
    "Vous savez maintenant comment sélectionner les colonnes d'un `DataFrame`, vous allez voir maintenant quelques unes des fonctions utiles pour explorer le contenu de vos `Series`.\n",
    "\n",
    "#### **Accéder au type d'une d'une Series**"
   ]
  },
  {
   "cell_type": "code",
   "execution_count": 7,
   "metadata": {},
   "outputs": [
    {
     "data": {
      "text/plain": [
       "dtype('int64')"
      ]
     },
     "execution_count": 7,
     "metadata": {},
     "output_type": "execute_result"
    }
   ],
   "source": [
    "df['Altitude'].dtype # Pour un dataframe dtypes prend un \"s\""
   ]
  },
  {
   "cell_type": "markdown",
   "metadata": {},
   "source": [
    "#### **Accéder à la liste des modalités d'une variable**"
   ]
  },
  {
   "cell_type": "code",
   "execution_count": 8,
   "metadata": {},
   "outputs": [
    {
     "data": {
      "text/plain": [
       "array(['Nouvelle-Aquitaine', 'Île-de-France',\n",
       "       \"Provence-Alpes-Côte d'Azur\", nan, 'Grand Est', 'Bretagne',\n",
       "       'Auvergne-Rhône-Alpes'], dtype=object)"
      ]
     },
     "execution_count": 8,
     "metadata": {},
     "output_type": "execute_result"
    }
   ],
   "source": [
    "df[\"Region\"].unique() # Attention ici la fonction ajoute à la liste nan : pour les valeurs manquantes"
   ]
  },
  {
   "cell_type": "markdown",
   "metadata": {},
   "source": [
    "#### **le nombre de modalités uniques d'une variable**"
   ]
  },
  {
   "cell_type": "code",
   "execution_count": 9,
   "metadata": {},
   "outputs": [
    {
     "data": {
      "text/plain": [
       "6"
      ]
     },
     "execution_count": 9,
     "metadata": {},
     "output_type": "execute_result"
    }
   ],
   "source": [
    "df[\"Region\"].nunique() # Avec le nunique on ne compte pas les nan"
   ]
  },
  {
   "cell_type": "markdown",
   "metadata": {},
   "source": [
    "Vous pouvez maintenant automatiser quelques bout de code. Par exemple, affichez le nombre de modalités uniques de toutes les variables catégorielles.\n",
    "\n",
    "Cela peut-être utile notamment pour des questions de choix d'encoding que vous verrez lors des cours sur la modélisation."
   ]
  },
  {
   "cell_type": "code",
   "execution_count": 10,
   "metadata": {},
   "outputs": [
    {
     "name": "stdout",
     "output_type": "stream",
     "text": [
      "La colonne Nom a 8 modalités\n",
      "\n",
      "La colonne Region a 6 modalités\n",
      "\n"
     ]
    }
   ],
   "source": [
    "col_object_l = df.select_dtypes(include='object').columns # Stock les colonnes\n",
    "\n",
    "for col in col_object_l:\n",
    "    print(f\"La colonne {col} a {df[col].nunique()} modalités\")\n",
    "    print(\"\")"
   ]
  },
  {
   "cell_type": "markdown",
   "metadata": {},
   "source": [
    "#### **La répartition des observations dans les différentes modalités**"
   ]
  },
  {
   "cell_type": "code",
   "execution_count": 11,
   "metadata": {},
   "outputs": [
    {
     "data": {
      "text/plain": [
       "Provence-Alpes-Côte d'Azur    29195\n",
       "Île-de-France                 29188\n",
       "Nouvelle-Aquitaine            29178\n",
       "Bretagne                      29119\n",
       "Grand Est                     29049\n",
       "Auvergne-Rhône-Alpes          28916\n",
       "Name: Region, dtype: int64"
      ]
     },
     "execution_count": 11,
     "metadata": {},
     "output_type": "execute_result"
    }
   ],
   "source": [
    "df['Region'].value_counts() # Affiche le nombre d'obs dans chaque modalité"
   ]
  },
  {
   "cell_type": "code",
   "execution_count": 12,
   "metadata": {},
   "outputs": [
    {
     "data": {
      "text/plain": [
       "Provence-Alpes-Côte d'Azur    0.167168\n",
       "Île-de-France                 0.167128\n",
       "Nouvelle-Aquitaine            0.167070\n",
       "Bretagne                      0.166733\n",
       "Grand Est                     0.166332\n",
       "Auvergne-Rhône-Alpes          0.165570\n",
       "Name: Region, dtype: float64"
      ]
     },
     "execution_count": 12,
     "metadata": {},
     "output_type": "execute_result"
    }
   ],
   "source": [
    "df['Region'].value_counts(normalize=True) # La même chose en %, ce qui est plus facil à lire\n",
    "                                          # C'est également très utilisé pour calculer les taux de cible"
   ]
  },
  {
   "cell_type": "code",
   "execution_count": 13,
   "metadata": {},
   "outputs": [
    {
     "data": {
      "text/plain": [
       "NaN                           0.172008\n",
       "Provence-Alpes-Côte d'Azur    0.138413\n",
       "Île-de-France                 0.138380\n",
       "Nouvelle-Aquitaine            0.138333\n",
       "Bretagne                      0.138053\n",
       "Grand Est                     0.137721\n",
       "Auvergne-Rhône-Alpes          0.137091\n",
       "Name: Region, dtype: float64"
      ]
     },
     "execution_count": 13,
     "metadata": {},
     "output_type": "execute_result"
    }
   ],
   "source": [
    "df['Region'].value_counts(normalize=True, dropna=False) # On prend maintenant en compte les valeurs manquantes\n"
   ]
  },
  {
   "cell_type": "markdown",
   "metadata": {},
   "source": [
    "## **<span style=\"color:#3775a8\">1.3. Sélectionner plusieurs colonnes</span>**\n",
    "\n",
    "Vous pouvez également sélectionner plusieurs colonnes. Il suffit d'utiliser une liste : `df[liste_colonnes]`"
   ]
  },
  {
   "cell_type": "code",
   "execution_count": 14,
   "metadata": {},
   "outputs": [
    {
     "data": {
      "text/html": [
       "<div>\n",
       "<style scoped>\n",
       "    .dataframe tbody tr th:only-of-type {\n",
       "        vertical-align: middle;\n",
       "    }\n",
       "\n",
       "    .dataframe tbody tr th {\n",
       "        vertical-align: top;\n",
       "    }\n",
       "\n",
       "    .dataframe thead th {\n",
       "        text-align: right;\n",
       "    }\n",
       "</style>\n",
       "<table border=\"1\" class=\"dataframe\">\n",
       "  <thead>\n",
       "    <tr style=\"text-align: right;\">\n",
       "      <th></th>\n",
       "      <th>Nom</th>\n",
       "      <th>Region</th>\n",
       "    </tr>\n",
       "  </thead>\n",
       "  <tbody>\n",
       "    <tr>\n",
       "      <th>0</th>\n",
       "      <td>BORDEAUX-MERIGNAC</td>\n",
       "      <td>Nouvelle-Aquitaine</td>\n",
       "    </tr>\n",
       "    <tr>\n",
       "      <th>1</th>\n",
       "      <td>ORLY</td>\n",
       "      <td>Île-de-France</td>\n",
       "    </tr>\n",
       "    <tr>\n",
       "      <th>2</th>\n",
       "      <td>MARIGNANE</td>\n",
       "      <td>Provence-Alpes-Côte d'Azur</td>\n",
       "    </tr>\n",
       "    <tr>\n",
       "      <th>3</th>\n",
       "      <td>JUAN DE NOVA</td>\n",
       "      <td>NaN</td>\n",
       "    </tr>\n",
       "    <tr>\n",
       "      <th>4</th>\n",
       "      <td>STRASBOURG-ENTZHEIM</td>\n",
       "      <td>Grand Est</td>\n",
       "    </tr>\n",
       "  </tbody>\n",
       "</table>\n",
       "</div>"
      ],
      "text/plain": [
       "                   Nom                      Region\n",
       "0    BORDEAUX-MERIGNAC          Nouvelle-Aquitaine\n",
       "1                 ORLY               Île-de-France\n",
       "2            MARIGNANE  Provence-Alpes-Côte d'Azur\n",
       "3         JUAN DE NOVA                         NaN\n",
       "4  STRASBOURG-ENTZHEIM                   Grand Est"
      ]
     },
     "execution_count": 14,
     "metadata": {},
     "output_type": "execute_result"
    }
   ],
   "source": [
    "df[[\"Nom\", \"Region\"]].head() # Affiche les 5 premières lignes des colonnes selectionnées"
   ]
  },
  {
   "cell_type": "code",
   "execution_count": 15,
   "metadata": {},
   "outputs": [
    {
     "data": {
      "text/html": [
       "<div>\n",
       "<style scoped>\n",
       "    .dataframe tbody tr th:only-of-type {\n",
       "        vertical-align: middle;\n",
       "    }\n",
       "\n",
       "    .dataframe tbody tr th {\n",
       "        vertical-align: top;\n",
       "    }\n",
       "\n",
       "    .dataframe thead th {\n",
       "        text-align: right;\n",
       "    }\n",
       "</style>\n",
       "<table border=\"1\" class=\"dataframe\">\n",
       "  <thead>\n",
       "    <tr style=\"text-align: right;\">\n",
       "      <th></th>\n",
       "      <th>Nom</th>\n",
       "      <th>Region</th>\n",
       "    </tr>\n",
       "  </thead>\n",
       "  <tbody>\n",
       "    <tr>\n",
       "      <th>0</th>\n",
       "      <td>BORDEAUX-MERIGNAC</td>\n",
       "      <td>Nouvelle-Aquitaine</td>\n",
       "    </tr>\n",
       "    <tr>\n",
       "      <th>1</th>\n",
       "      <td>ORLY</td>\n",
       "      <td>Île-de-France</td>\n",
       "    </tr>\n",
       "    <tr>\n",
       "      <th>2</th>\n",
       "      <td>MARIGNANE</td>\n",
       "      <td>Provence-Alpes-Côte d'Azur</td>\n",
       "    </tr>\n",
       "    <tr>\n",
       "      <th>3</th>\n",
       "      <td>JUAN DE NOVA</td>\n",
       "      <td>NaN</td>\n",
       "    </tr>\n",
       "    <tr>\n",
       "      <th>4</th>\n",
       "      <td>STRASBOURG-ENTZHEIM</td>\n",
       "      <td>Grand Est</td>\n",
       "    </tr>\n",
       "  </tbody>\n",
       "</table>\n",
       "</div>"
      ],
      "text/plain": [
       "                   Nom                      Region\n",
       "0    BORDEAUX-MERIGNAC          Nouvelle-Aquitaine\n",
       "1                 ORLY               Île-de-France\n",
       "2            MARIGNANE  Provence-Alpes-Côte d'Azur\n",
       "3         JUAN DE NOVA                         NaN\n",
       "4  STRASBOURG-ENTZHEIM                   Grand Est"
      ]
     },
     "execution_count": 15,
     "metadata": {},
     "output_type": "execute_result"
    }
   ],
   "source": [
    "df[col_object_l].head() # Même chose"
   ]
  },
  {
   "cell_type": "markdown",
   "metadata": {},
   "source": [
    "**Remarque :** Jusqu'à présent lorsque nous avons sélectionner nos colonnes, nous avons fait que des **affichages**, notre jeu de données reste inchangé !"
   ]
  },
  {
   "cell_type": "code",
   "execution_count": 16,
   "metadata": {},
   "outputs": [],
   "source": [
    "df_2 = df[col_object_l].head() # Là on réaffecte"
   ]
  },
  {
   "cell_type": "code",
   "execution_count": 17,
   "metadata": {},
   "outputs": [
    {
     "data": {
      "text/html": [
       "<div>\n",
       "<style scoped>\n",
       "    .dataframe tbody tr th:only-of-type {\n",
       "        vertical-align: middle;\n",
       "    }\n",
       "\n",
       "    .dataframe tbody tr th {\n",
       "        vertical-align: top;\n",
       "    }\n",
       "\n",
       "    .dataframe thead th {\n",
       "        text-align: right;\n",
       "    }\n",
       "</style>\n",
       "<table border=\"1\" class=\"dataframe\">\n",
       "  <thead>\n",
       "    <tr style=\"text-align: right;\">\n",
       "      <th></th>\n",
       "      <th>Nom</th>\n",
       "      <th>Region</th>\n",
       "    </tr>\n",
       "  </thead>\n",
       "  <tbody>\n",
       "    <tr>\n",
       "      <th>0</th>\n",
       "      <td>BORDEAUX-MERIGNAC</td>\n",
       "      <td>Nouvelle-Aquitaine</td>\n",
       "    </tr>\n",
       "    <tr>\n",
       "      <th>1</th>\n",
       "      <td>ORLY</td>\n",
       "      <td>Île-de-France</td>\n",
       "    </tr>\n",
       "    <tr>\n",
       "      <th>2</th>\n",
       "      <td>MARIGNANE</td>\n",
       "      <td>Provence-Alpes-Côte d'Azur</td>\n",
       "    </tr>\n",
       "    <tr>\n",
       "      <th>3</th>\n",
       "      <td>JUAN DE NOVA</td>\n",
       "      <td>NaN</td>\n",
       "    </tr>\n",
       "    <tr>\n",
       "      <th>4</th>\n",
       "      <td>STRASBOURG-ENTZHEIM</td>\n",
       "      <td>Grand Est</td>\n",
       "    </tr>\n",
       "  </tbody>\n",
       "</table>\n",
       "</div>"
      ],
      "text/plain": [
       "                   Nom                      Region\n",
       "0    BORDEAUX-MERIGNAC          Nouvelle-Aquitaine\n",
       "1                 ORLY               Île-de-France\n",
       "2            MARIGNANE  Provence-Alpes-Côte d'Azur\n",
       "3         JUAN DE NOVA                         NaN\n",
       "4  STRASBOURG-ENTZHEIM                   Grand Est"
      ]
     },
     "execution_count": 17,
     "metadata": {},
     "output_type": "execute_result"
    }
   ],
   "source": [
    "df_2 # affiche le dataframe en entier"
   ]
  },
  {
   "cell_type": "markdown",
   "metadata": {},
   "source": [
    "# **<span style=\"color:#3775a8\">2. Filtrer les observations </span>**\n",
    "## **<span style=\"color:#3775a8\">2.1. L'utilisation du slice </span>**\n",
    "\n",
    "Vous pouvez **filtrer** vos données à l'aide du `slice` en indiquant les lignes à conserver : `df[première ligne inclue : dernière ligne exclue]`"
   ]
  },
  {
   "cell_type": "code",
   "execution_count": 18,
   "metadata": {},
   "outputs": [
    {
     "data": {
      "text/html": [
       "<div>\n",
       "<style scoped>\n",
       "    .dataframe tbody tr th:only-of-type {\n",
       "        vertical-align: middle;\n",
       "    }\n",
       "\n",
       "    .dataframe tbody tr th {\n",
       "        vertical-align: top;\n",
       "    }\n",
       "\n",
       "    .dataframe thead th {\n",
       "        text-align: right;\n",
       "    }\n",
       "</style>\n",
       "<table border=\"1\" class=\"dataframe\">\n",
       "  <thead>\n",
       "    <tr style=\"text-align: right;\">\n",
       "      <th></th>\n",
       "      <th>Date</th>\n",
       "      <th>Vitesse_Vent_Moyen_10min</th>\n",
       "      <th>Humidite</th>\n",
       "      <th>Precipitation_derniere_heure</th>\n",
       "      <th>Nom</th>\n",
       "      <th>Temperature_dC</th>\n",
       "      <th>Altitude</th>\n",
       "      <th>Longitude</th>\n",
       "      <th>Latitude</th>\n",
       "      <th>Region</th>\n",
       "    </tr>\n",
       "  </thead>\n",
       "  <tbody>\n",
       "    <tr>\n",
       "      <th>0</th>\n",
       "      <td>2011-01-01 01:00:00</td>\n",
       "      <td>0.0</td>\n",
       "      <td>97.0</td>\n",
       "      <td>0.0</td>\n",
       "      <td>BORDEAUX-MERIGNAC</td>\n",
       "      <td>5.6</td>\n",
       "      <td>47</td>\n",
       "      <td>-0.691333</td>\n",
       "      <td>44.830667</td>\n",
       "      <td>Nouvelle-Aquitaine</td>\n",
       "    </tr>\n",
       "    <tr>\n",
       "      <th>1</th>\n",
       "      <td>2011-01-01 01:00:00</td>\n",
       "      <td>2.1</td>\n",
       "      <td>94.0</td>\n",
       "      <td>0.0</td>\n",
       "      <td>ORLY</td>\n",
       "      <td>-0.7</td>\n",
       "      <td>89</td>\n",
       "      <td>2.384333</td>\n",
       "      <td>48.716833</td>\n",
       "      <td>Île-de-France</td>\n",
       "    </tr>\n",
       "    <tr>\n",
       "      <th>2</th>\n",
       "      <td>2011-01-01 01:00:00</td>\n",
       "      <td>0.0</td>\n",
       "      <td>87.0</td>\n",
       "      <td>0.0</td>\n",
       "      <td>MARIGNANE</td>\n",
       "      <td>8.0</td>\n",
       "      <td>9</td>\n",
       "      <td>5.216000</td>\n",
       "      <td>43.437667</td>\n",
       "      <td>Provence-Alpes-Côte d'Azur</td>\n",
       "    </tr>\n",
       "    <tr>\n",
       "      <th>3</th>\n",
       "      <td>2011-01-01 01:00:00</td>\n",
       "      <td>3.1</td>\n",
       "      <td>84.0</td>\n",
       "      <td>NaN</td>\n",
       "      <td>JUAN DE NOVA</td>\n",
       "      <td>27.9</td>\n",
       "      <td>9</td>\n",
       "      <td>42.712000</td>\n",
       "      <td>-17.054667</td>\n",
       "      <td>NaN</td>\n",
       "    </tr>\n",
       "    <tr>\n",
       "      <th>4</th>\n",
       "      <td>2011-01-01 01:00:00</td>\n",
       "      <td>1.0</td>\n",
       "      <td>92.0</td>\n",
       "      <td>0.0</td>\n",
       "      <td>STRASBOURG-ENTZHEIM</td>\n",
       "      <td>-0.4</td>\n",
       "      <td>150</td>\n",
       "      <td>7.640333</td>\n",
       "      <td>48.549500</td>\n",
       "      <td>Grand Est</td>\n",
       "    </tr>\n",
       "  </tbody>\n",
       "</table>\n",
       "</div>"
      ],
      "text/plain": [
       "                 Date  Vitesse_Vent_Moyen_10min  Humidite  \\\n",
       "0 2011-01-01 01:00:00                       0.0      97.0   \n",
       "1 2011-01-01 01:00:00                       2.1      94.0   \n",
       "2 2011-01-01 01:00:00                       0.0      87.0   \n",
       "3 2011-01-01 01:00:00                       3.1      84.0   \n",
       "4 2011-01-01 01:00:00                       1.0      92.0   \n",
       "\n",
       "   Precipitation_derniere_heure                  Nom  Temperature_dC  \\\n",
       "0                           0.0    BORDEAUX-MERIGNAC             5.6   \n",
       "1                           0.0                 ORLY            -0.7   \n",
       "2                           0.0            MARIGNANE             8.0   \n",
       "3                           NaN         JUAN DE NOVA            27.9   \n",
       "4                           0.0  STRASBOURG-ENTZHEIM            -0.4   \n",
       "\n",
       "   Altitude  Longitude   Latitude                      Region  \n",
       "0        47  -0.691333  44.830667          Nouvelle-Aquitaine  \n",
       "1        89   2.384333  48.716833               Île-de-France  \n",
       "2         9   5.216000  43.437667  Provence-Alpes-Côte d'Azur  \n",
       "3         9  42.712000 -17.054667                         NaN  \n",
       "4       150   7.640333  48.549500                   Grand Est  "
      ]
     },
     "execution_count": 18,
     "metadata": {},
     "output_type": "execute_result"
    }
   ],
   "source": [
    "df[0:5] # Conserve que les 5 premières lignes"
   ]
  },
  {
   "cell_type": "code",
   "execution_count": 19,
   "metadata": {},
   "outputs": [
    {
     "data": {
      "text/html": [
       "<div>\n",
       "<style scoped>\n",
       "    .dataframe tbody tr th:only-of-type {\n",
       "        vertical-align: middle;\n",
       "    }\n",
       "\n",
       "    .dataframe tbody tr th {\n",
       "        vertical-align: top;\n",
       "    }\n",
       "\n",
       "    .dataframe thead th {\n",
       "        text-align: right;\n",
       "    }\n",
       "</style>\n",
       "<table border=\"1\" class=\"dataframe\">\n",
       "  <thead>\n",
       "    <tr style=\"text-align: right;\">\n",
       "      <th></th>\n",
       "      <th>Date</th>\n",
       "      <th>Vitesse_Vent_Moyen_10min</th>\n",
       "      <th>Humidite</th>\n",
       "      <th>Precipitation_derniere_heure</th>\n",
       "      <th>Nom</th>\n",
       "      <th>Temperature_dC</th>\n",
       "      <th>Altitude</th>\n",
       "      <th>Longitude</th>\n",
       "      <th>Latitude</th>\n",
       "      <th>Region</th>\n",
       "    </tr>\n",
       "  </thead>\n",
       "  <tbody>\n",
       "    <tr>\n",
       "      <th>0</th>\n",
       "      <td>2011-01-01 01:00:00</td>\n",
       "      <td>0.0</td>\n",
       "      <td>97.0</td>\n",
       "      <td>0.0</td>\n",
       "      <td>BORDEAUX-MERIGNAC</td>\n",
       "      <td>5.6</td>\n",
       "      <td>47</td>\n",
       "      <td>-0.691333</td>\n",
       "      <td>44.830667</td>\n",
       "      <td>Nouvelle-Aquitaine</td>\n",
       "    </tr>\n",
       "    <tr>\n",
       "      <th>1</th>\n",
       "      <td>2011-01-01 01:00:00</td>\n",
       "      <td>2.1</td>\n",
       "      <td>94.0</td>\n",
       "      <td>0.0</td>\n",
       "      <td>ORLY</td>\n",
       "      <td>-0.7</td>\n",
       "      <td>89</td>\n",
       "      <td>2.384333</td>\n",
       "      <td>48.716833</td>\n",
       "      <td>Île-de-France</td>\n",
       "    </tr>\n",
       "    <tr>\n",
       "      <th>2</th>\n",
       "      <td>2011-01-01 01:00:00</td>\n",
       "      <td>0.0</td>\n",
       "      <td>87.0</td>\n",
       "      <td>0.0</td>\n",
       "      <td>MARIGNANE</td>\n",
       "      <td>8.0</td>\n",
       "      <td>9</td>\n",
       "      <td>5.216000</td>\n",
       "      <td>43.437667</td>\n",
       "      <td>Provence-Alpes-Côte d'Azur</td>\n",
       "    </tr>\n",
       "    <tr>\n",
       "      <th>3</th>\n",
       "      <td>2011-01-01 01:00:00</td>\n",
       "      <td>3.1</td>\n",
       "      <td>84.0</td>\n",
       "      <td>NaN</td>\n",
       "      <td>JUAN DE NOVA</td>\n",
       "      <td>27.9</td>\n",
       "      <td>9</td>\n",
       "      <td>42.712000</td>\n",
       "      <td>-17.054667</td>\n",
       "      <td>NaN</td>\n",
       "    </tr>\n",
       "    <tr>\n",
       "      <th>4</th>\n",
       "      <td>2011-01-01 01:00:00</td>\n",
       "      <td>1.0</td>\n",
       "      <td>92.0</td>\n",
       "      <td>0.0</td>\n",
       "      <td>STRASBOURG-ENTZHEIM</td>\n",
       "      <td>-0.4</td>\n",
       "      <td>150</td>\n",
       "      <td>7.640333</td>\n",
       "      <td>48.549500</td>\n",
       "      <td>Grand Est</td>\n",
       "    </tr>\n",
       "  </tbody>\n",
       "</table>\n",
       "</div>"
      ],
      "text/plain": [
       "                 Date  Vitesse_Vent_Moyen_10min  Humidite  \\\n",
       "0 2011-01-01 01:00:00                       0.0      97.0   \n",
       "1 2011-01-01 01:00:00                       2.1      94.0   \n",
       "2 2011-01-01 01:00:00                       0.0      87.0   \n",
       "3 2011-01-01 01:00:00                       3.1      84.0   \n",
       "4 2011-01-01 01:00:00                       1.0      92.0   \n",
       "\n",
       "   Precipitation_derniere_heure                  Nom  Temperature_dC  \\\n",
       "0                           0.0    BORDEAUX-MERIGNAC             5.6   \n",
       "1                           0.0                 ORLY            -0.7   \n",
       "2                           0.0            MARIGNANE             8.0   \n",
       "3                           NaN         JUAN DE NOVA            27.9   \n",
       "4                           0.0  STRASBOURG-ENTZHEIM            -0.4   \n",
       "\n",
       "   Altitude  Longitude   Latitude                      Region  \n",
       "0        47  -0.691333  44.830667          Nouvelle-Aquitaine  \n",
       "1        89   2.384333  48.716833               Île-de-France  \n",
       "2         9   5.216000  43.437667  Provence-Alpes-Côte d'Azur  \n",
       "3         9  42.712000 -17.054667                         NaN  \n",
       "4       150   7.640333  48.549500                   Grand Est  "
      ]
     },
     "execution_count": 19,
     "metadata": {},
     "output_type": "execute_result"
    }
   ],
   "source": [
    "df[:5] # Idem"
   ]
  },
  {
   "cell_type": "markdown",
   "metadata": {},
   "source": [
    "## **<span style=\"color:#3775a8\">2.2. Boolean indexing </span>**\n",
    "\n",
    "L'idée est de filtrer les données en utilisant une ou plusieurs conditions, vous tester un **prédicat** et vous stocker le résultat dans un vecteur.\n",
    "\n",
    "Si la valeur vaut `True` vous conserver l'observation. \n",
    "\n",
    "Pour filtrer : `df[condition]`\n",
    "\n",
    "#### **Filtrer sur une condition**"
   ]
  },
  {
   "cell_type": "code",
   "execution_count": 20,
   "metadata": {},
   "outputs": [
    {
     "data": {
      "text/plain": [
       "0         False\n",
       "1          True\n",
       "2         False\n",
       "3         False\n",
       "4         False\n",
       "          ...  \n",
       "210921    False\n",
       "210922    False\n",
       "210923     True\n",
       "210924    False\n",
       "210925    False\n",
       "Name: Region, Length: 210926, dtype: bool"
      ]
     },
     "execution_count": 20,
     "metadata": {},
     "output_type": "execute_result"
    }
   ],
   "source": [
    "df[\"Region\"]==\"Île-de-France\" # Test si la région est égale Île-de-France"
   ]
  },
  {
   "cell_type": "code",
   "execution_count": 21,
   "metadata": {},
   "outputs": [
    {
     "data": {
      "text/html": [
       "<div>\n",
       "<style scoped>\n",
       "    .dataframe tbody tr th:only-of-type {\n",
       "        vertical-align: middle;\n",
       "    }\n",
       "\n",
       "    .dataframe tbody tr th {\n",
       "        vertical-align: top;\n",
       "    }\n",
       "\n",
       "    .dataframe thead th {\n",
       "        text-align: right;\n",
       "    }\n",
       "</style>\n",
       "<table border=\"1\" class=\"dataframe\">\n",
       "  <thead>\n",
       "    <tr style=\"text-align: right;\">\n",
       "      <th></th>\n",
       "      <th>Date</th>\n",
       "      <th>Vitesse_Vent_Moyen_10min</th>\n",
       "      <th>Humidite</th>\n",
       "      <th>Precipitation_derniere_heure</th>\n",
       "      <th>Nom</th>\n",
       "      <th>Temperature_dC</th>\n",
       "      <th>Altitude</th>\n",
       "      <th>Longitude</th>\n",
       "      <th>Latitude</th>\n",
       "      <th>Region</th>\n",
       "    </tr>\n",
       "  </thead>\n",
       "  <tbody>\n",
       "    <tr>\n",
       "      <th>1</th>\n",
       "      <td>2011-01-01 01:00:00</td>\n",
       "      <td>2.1</td>\n",
       "      <td>94.0</td>\n",
       "      <td>0.0</td>\n",
       "      <td>ORLY</td>\n",
       "      <td>-0.7</td>\n",
       "      <td>89</td>\n",
       "      <td>2.384333</td>\n",
       "      <td>48.716833</td>\n",
       "      <td>Île-de-France</td>\n",
       "    </tr>\n",
       "    <tr>\n",
       "      <th>14</th>\n",
       "      <td>2011-01-01 04:00:00</td>\n",
       "      <td>1.0</td>\n",
       "      <td>97.0</td>\n",
       "      <td>0.0</td>\n",
       "      <td>ORLY</td>\n",
       "      <td>-0.6</td>\n",
       "      <td>89</td>\n",
       "      <td>2.384333</td>\n",
       "      <td>48.716833</td>\n",
       "      <td>Île-de-France</td>\n",
       "    </tr>\n",
       "    <tr>\n",
       "      <th>21</th>\n",
       "      <td>2011-01-01 07:00:00</td>\n",
       "      <td>2.1</td>\n",
       "      <td>94.0</td>\n",
       "      <td>0.0</td>\n",
       "      <td>ORLY</td>\n",
       "      <td>-0.8</td>\n",
       "      <td>89</td>\n",
       "      <td>2.384333</td>\n",
       "      <td>48.716833</td>\n",
       "      <td>Île-de-France</td>\n",
       "    </tr>\n",
       "    <tr>\n",
       "      <th>24</th>\n",
       "      <td>2011-01-01 10:00:00</td>\n",
       "      <td>0.5</td>\n",
       "      <td>97.0</td>\n",
       "      <td>0.0</td>\n",
       "      <td>ORLY</td>\n",
       "      <td>-0.5</td>\n",
       "      <td>89</td>\n",
       "      <td>2.384333</td>\n",
       "      <td>48.716833</td>\n",
       "      <td>Île-de-France</td>\n",
       "    </tr>\n",
       "    <tr>\n",
       "      <th>33</th>\n",
       "      <td>2011-01-01 13:00:00</td>\n",
       "      <td>1.5</td>\n",
       "      <td>92.0</td>\n",
       "      <td>0.0</td>\n",
       "      <td>ORLY</td>\n",
       "      <td>1.5</td>\n",
       "      <td>89</td>\n",
       "      <td>2.384333</td>\n",
       "      <td>48.716833</td>\n",
       "      <td>Île-de-France</td>\n",
       "    </tr>\n",
       "  </tbody>\n",
       "</table>\n",
       "</div>"
      ],
      "text/plain": [
       "                  Date  Vitesse_Vent_Moyen_10min  Humidite  \\\n",
       "1  2011-01-01 01:00:00                       2.1      94.0   \n",
       "14 2011-01-01 04:00:00                       1.0      97.0   \n",
       "21 2011-01-01 07:00:00                       2.1      94.0   \n",
       "24 2011-01-01 10:00:00                       0.5      97.0   \n",
       "33 2011-01-01 13:00:00                       1.5      92.0   \n",
       "\n",
       "    Precipitation_derniere_heure   Nom  Temperature_dC  Altitude  Longitude  \\\n",
       "1                            0.0  ORLY            -0.7        89   2.384333   \n",
       "14                           0.0  ORLY            -0.6        89   2.384333   \n",
       "21                           0.0  ORLY            -0.8        89   2.384333   \n",
       "24                           0.0  ORLY            -0.5        89   2.384333   \n",
       "33                           0.0  ORLY             1.5        89   2.384333   \n",
       "\n",
       "     Latitude         Region  \n",
       "1   48.716833  Île-de-France  \n",
       "14  48.716833  Île-de-France  \n",
       "21  48.716833  Île-de-France  \n",
       "24  48.716833  Île-de-France  \n",
       "33  48.716833  Île-de-France  "
      ]
     },
     "execution_count": 21,
     "metadata": {},
     "output_type": "execute_result"
    }
   ],
   "source": [
    "df[df[\"Region\"]==\"Île-de-France\"].head() # On affiche les 5 premières lignes du Dataframe filtré sur une condition"
   ]
  },
  {
   "cell_type": "code",
   "execution_count": 22,
   "metadata": {},
   "outputs": [
    {
     "data": {
      "text/html": [
       "<div>\n",
       "<style scoped>\n",
       "    .dataframe tbody tr th:only-of-type {\n",
       "        vertical-align: middle;\n",
       "    }\n",
       "\n",
       "    .dataframe tbody tr th {\n",
       "        vertical-align: top;\n",
       "    }\n",
       "\n",
       "    .dataframe thead th {\n",
       "        text-align: right;\n",
       "    }\n",
       "</style>\n",
       "<table border=\"1\" class=\"dataframe\">\n",
       "  <thead>\n",
       "    <tr style=\"text-align: right;\">\n",
       "      <th></th>\n",
       "      <th>Date</th>\n",
       "      <th>Region</th>\n",
       "    </tr>\n",
       "  </thead>\n",
       "  <tbody>\n",
       "    <tr>\n",
       "      <th>1</th>\n",
       "      <td>2011-01-01 01:00:00</td>\n",
       "      <td>Île-de-France</td>\n",
       "    </tr>\n",
       "    <tr>\n",
       "      <th>14</th>\n",
       "      <td>2011-01-01 04:00:00</td>\n",
       "      <td>Île-de-France</td>\n",
       "    </tr>\n",
       "  </tbody>\n",
       "</table>\n",
       "</div>"
      ],
      "text/plain": [
       "                  Date         Region\n",
       "1  2011-01-01 01:00:00  Île-de-France\n",
       "14 2011-01-01 04:00:00  Île-de-France"
      ]
     },
     "execution_count": 22,
     "metadata": {},
     "output_type": "execute_result"
    }
   ],
   "source": [
    "df[df[\"Region\"]==\"Île-de-France\"][['Date', 'Region']].head(2) "
   ]
  },
  {
   "cell_type": "markdown",
   "metadata": {},
   "source": [
    "Certaines méthodes renvoient directement des `booleans`. C'est le cas par exemple de `isna` et `notna`.\n",
    "\n",
    "**Remarque :** Comme leurs noms l'indiquent ces fonctions permettent de savoir si une valeur est manquante ou non. \n",
    "\n",
    "Pour illustrer la complexité de Pandas nous allons nous arréter quelques instants. Ces fonctions ont des **alias** : `isnull` et `notnull`, c'est à dire que seul le nom change mais le code source est le même! \n",
    "\n",
    "Nous vous recommandons d'utiliser celles avec `na` car comme vous le verrez il existe `fillna` et `dropna` et non `fillnull` et `dropnull`. (Simple soucis de cohérence dans vos codes)\n",
    "\n",
    "Vous verrez le fonctionnement de ces méthodes dans le prochain chapitre."
   ]
  },
  {
   "cell_type": "code",
   "execution_count": 23,
   "metadata": {},
   "outputs": [
    {
     "data": {
      "text/plain": [
       "0         False\n",
       "1         False\n",
       "2         False\n",
       "3          True\n",
       "4         False\n",
       "          ...  \n",
       "210921    False\n",
       "210922    False\n",
       "210923    False\n",
       "210924    False\n",
       "210925    False\n",
       "Name: Region, Length: 210926, dtype: bool"
      ]
     },
     "execution_count": 23,
     "metadata": {},
     "output_type": "execute_result"
    }
   ],
   "source": [
    "df['Region'].isna() # Renvoie True si la valeur est manquante"
   ]
  },
  {
   "cell_type": "code",
   "execution_count": 24,
   "metadata": {},
   "outputs": [
    {
     "name": "stdout",
     "output_type": "stream",
     "text": [
      "isna et isnull sont des alias, illustration :\n",
      "Il y a 36281 valeurs manquantes avec isna\n",
      "-------\n",
      "Il y a 36281 valeurs manquantes avec isnull\n"
     ]
    }
   ],
   "source": [
    "print(\"isna et isnull sont des alias, illustration :\")\n",
    "\n",
    "print(f\"Il y a {df['Region'].isna().sum()} valeurs manquantes avec isna\")\n",
    "print(\"-------\")\n",
    "print(f\"Il y a {df['Region'].isnull().sum()} valeurs manquantes avec isnull\")"
   ]
  },
  {
   "cell_type": "code",
   "execution_count": 25,
   "metadata": {},
   "outputs": [
    {
     "data": {
      "text/html": [
       "<div>\n",
       "<style scoped>\n",
       "    .dataframe tbody tr th:only-of-type {\n",
       "        vertical-align: middle;\n",
       "    }\n",
       "\n",
       "    .dataframe tbody tr th {\n",
       "        vertical-align: top;\n",
       "    }\n",
       "\n",
       "    .dataframe thead th {\n",
       "        text-align: right;\n",
       "    }\n",
       "</style>\n",
       "<table border=\"1\" class=\"dataframe\">\n",
       "  <thead>\n",
       "    <tr style=\"text-align: right;\">\n",
       "      <th></th>\n",
       "      <th>Region</th>\n",
       "      <th>Nom</th>\n",
       "    </tr>\n",
       "  </thead>\n",
       "  <tbody>\n",
       "    <tr>\n",
       "      <th>3</th>\n",
       "      <td>NaN</td>\n",
       "      <td>JUAN DE NOVA</td>\n",
       "    </tr>\n",
       "    <tr>\n",
       "      <th>7</th>\n",
       "      <td>NaN</td>\n",
       "      <td>DUMONT D'URVILLE</td>\n",
       "    </tr>\n",
       "    <tr>\n",
       "      <th>13</th>\n",
       "      <td>NaN</td>\n",
       "      <td>JUAN DE NOVA</td>\n",
       "    </tr>\n",
       "    <tr>\n",
       "      <th>15</th>\n",
       "      <td>NaN</td>\n",
       "      <td>DUMONT D'URVILLE</td>\n",
       "    </tr>\n",
       "    <tr>\n",
       "      <th>20</th>\n",
       "      <td>NaN</td>\n",
       "      <td>DUMONT D'URVILLE</td>\n",
       "    </tr>\n",
       "  </tbody>\n",
       "</table>\n",
       "</div>"
      ],
      "text/plain": [
       "   Region               Nom\n",
       "3     NaN      JUAN DE NOVA\n",
       "7     NaN  DUMONT D'URVILLE\n",
       "13    NaN      JUAN DE NOVA\n",
       "15    NaN  DUMONT D'URVILLE\n",
       "20    NaN  DUMONT D'URVILLE"
      ]
     },
     "execution_count": 25,
     "metadata": {},
     "output_type": "execute_result"
    }
   ],
   "source": [
    "df[df['Region'].isna()][['Region', 'Nom']].head()"
   ]
  },
  {
   "cell_type": "markdown",
   "metadata": {},
   "source": [
    "#### **Filtrer sur plusieurs conditions**\n",
    "\n",
    "Vous pouvez filtrer sur plusieurs conditions en utilisant les opérateurs logiques, par exemple `|` ou `&`.\n",
    "\n",
    "Exemple : `df[condition_1 & condition_2]`"
   ]
  },
  {
   "cell_type": "code",
   "execution_count": 26,
   "metadata": {},
   "outputs": [
    {
     "data": {
      "text/html": [
       "<div>\n",
       "<style scoped>\n",
       "    .dataframe tbody tr th:only-of-type {\n",
       "        vertical-align: middle;\n",
       "    }\n",
       "\n",
       "    .dataframe tbody tr th {\n",
       "        vertical-align: top;\n",
       "    }\n",
       "\n",
       "    .dataframe thead th {\n",
       "        text-align: right;\n",
       "    }\n",
       "</style>\n",
       "<table border=\"1\" class=\"dataframe\">\n",
       "  <thead>\n",
       "    <tr style=\"text-align: right;\">\n",
       "      <th></th>\n",
       "      <th>Date</th>\n",
       "      <th>Vitesse_Vent_Moyen_10min</th>\n",
       "      <th>Humidite</th>\n",
       "      <th>Precipitation_derniere_heure</th>\n",
       "      <th>Nom</th>\n",
       "      <th>Temperature_dC</th>\n",
       "      <th>Altitude</th>\n",
       "      <th>Longitude</th>\n",
       "      <th>Latitude</th>\n",
       "      <th>Region</th>\n",
       "    </tr>\n",
       "  </thead>\n",
       "  <tbody>\n",
       "    <tr>\n",
       "      <th>171274</th>\n",
       "      <td>2019-01-01 01:00:00</td>\n",
       "      <td>2.6</td>\n",
       "      <td>84.0</td>\n",
       "      <td>0.0</td>\n",
       "      <td>ORLY</td>\n",
       "      <td>7.9</td>\n",
       "      <td>89</td>\n",
       "      <td>2.384333</td>\n",
       "      <td>48.716833</td>\n",
       "      <td>Île-de-France</td>\n",
       "    </tr>\n",
       "    <tr>\n",
       "      <th>171286</th>\n",
       "      <td>2019-01-01 04:00:00</td>\n",
       "      <td>2.3</td>\n",
       "      <td>91.0</td>\n",
       "      <td>-0.1</td>\n",
       "      <td>ORLY</td>\n",
       "      <td>7.0</td>\n",
       "      <td>89</td>\n",
       "      <td>2.384333</td>\n",
       "      <td>48.716833</td>\n",
       "      <td>Île-de-France</td>\n",
       "    </tr>\n",
       "    <tr>\n",
       "      <th>171293</th>\n",
       "      <td>2019-01-01 07:00:00</td>\n",
       "      <td>2.0</td>\n",
       "      <td>89.0</td>\n",
       "      <td>0.0</td>\n",
       "      <td>ORLY</td>\n",
       "      <td>7.1</td>\n",
       "      <td>89</td>\n",
       "      <td>2.384333</td>\n",
       "      <td>48.716833</td>\n",
       "      <td>Île-de-France</td>\n",
       "    </tr>\n",
       "    <tr>\n",
       "      <th>171299</th>\n",
       "      <td>2019-01-01 10:00:00</td>\n",
       "      <td>2.3</td>\n",
       "      <td>84.0</td>\n",
       "      <td>0.0</td>\n",
       "      <td>ORLY</td>\n",
       "      <td>7.8</td>\n",
       "      <td>89</td>\n",
       "      <td>2.384333</td>\n",
       "      <td>48.716833</td>\n",
       "      <td>Île-de-France</td>\n",
       "    </tr>\n",
       "    <tr>\n",
       "      <th>171307</th>\n",
       "      <td>2019-01-01 13:00:00</td>\n",
       "      <td>3.4</td>\n",
       "      <td>77.0</td>\n",
       "      <td>0.0</td>\n",
       "      <td>ORLY</td>\n",
       "      <td>8.1</td>\n",
       "      <td>89</td>\n",
       "      <td>2.384333</td>\n",
       "      <td>48.716833</td>\n",
       "      <td>Île-de-France</td>\n",
       "    </tr>\n",
       "  </tbody>\n",
       "</table>\n",
       "</div>"
      ],
      "text/plain": [
       "                      Date  Vitesse_Vent_Moyen_10min  Humidite  \\\n",
       "171274 2019-01-01 01:00:00                       2.6      84.0   \n",
       "171286 2019-01-01 04:00:00                       2.3      91.0   \n",
       "171293 2019-01-01 07:00:00                       2.0      89.0   \n",
       "171299 2019-01-01 10:00:00                       2.3      84.0   \n",
       "171307 2019-01-01 13:00:00                       3.4      77.0   \n",
       "\n",
       "        Precipitation_derniere_heure   Nom  Temperature_dC  Altitude  \\\n",
       "171274                           0.0  ORLY             7.9        89   \n",
       "171286                          -0.1  ORLY             7.0        89   \n",
       "171293                           0.0  ORLY             7.1        89   \n",
       "171299                           0.0  ORLY             7.8        89   \n",
       "171307                           0.0  ORLY             8.1        89   \n",
       "\n",
       "        Longitude   Latitude         Region  \n",
       "171274   2.384333  48.716833  Île-de-France  \n",
       "171286   2.384333  48.716833  Île-de-France  \n",
       "171293   2.384333  48.716833  Île-de-France  \n",
       "171299   2.384333  48.716833  Île-de-France  \n",
       "171307   2.384333  48.716833  Île-de-France  "
      ]
     },
     "execution_count": 26,
     "metadata": {},
     "output_type": "execute_result"
    }
   ],
   "source": [
    "df[(df[\"Region\"]==\"Île-de-France\") & (df[\"Date\"]>\"2019-01-01\")].head() # On conserve les observation d'ile de France et postérieur\n",
    "                                                                       # au premier janvier 2019"
   ]
  },
  {
   "cell_type": "code",
   "execution_count": 27,
   "metadata": {},
   "outputs": [
    {
     "name": "stdout",
     "output_type": "stream",
     "text": [
      "Il y a 5841 observations dans le dataframe filtré\n"
     ]
    },
    {
     "data": {
      "text/html": [
       "<div>\n",
       "<style scoped>\n",
       "    .dataframe tbody tr th:only-of-type {\n",
       "        vertical-align: middle;\n",
       "    }\n",
       "\n",
       "    .dataframe tbody tr th {\n",
       "        vertical-align: top;\n",
       "    }\n",
       "\n",
       "    .dataframe thead th {\n",
       "        text-align: right;\n",
       "    }\n",
       "</style>\n",
       "<table border=\"1\" class=\"dataframe\">\n",
       "  <thead>\n",
       "    <tr style=\"text-align: right;\">\n",
       "      <th></th>\n",
       "      <th>Date</th>\n",
       "      <th>Vitesse_Vent_Moyen_10min</th>\n",
       "      <th>Humidite</th>\n",
       "      <th>Precipitation_derniere_heure</th>\n",
       "      <th>Nom</th>\n",
       "      <th>Temperature_dC</th>\n",
       "      <th>Altitude</th>\n",
       "      <th>Longitude</th>\n",
       "      <th>Latitude</th>\n",
       "      <th>Region</th>\n",
       "    </tr>\n",
       "  </thead>\n",
       "  <tbody>\n",
       "    <tr>\n",
       "      <th>171274</th>\n",
       "      <td>2019-01-01 01:00:00</td>\n",
       "      <td>2.6</td>\n",
       "      <td>84.0</td>\n",
       "      <td>0.0</td>\n",
       "      <td>ORLY</td>\n",
       "      <td>7.9</td>\n",
       "      <td>89</td>\n",
       "      <td>2.384333</td>\n",
       "      <td>48.716833</td>\n",
       "      <td>Île-de-France</td>\n",
       "    </tr>\n",
       "    <tr>\n",
       "      <th>171286</th>\n",
       "      <td>2019-01-01 04:00:00</td>\n",
       "      <td>2.3</td>\n",
       "      <td>91.0</td>\n",
       "      <td>-0.1</td>\n",
       "      <td>ORLY</td>\n",
       "      <td>7.0</td>\n",
       "      <td>89</td>\n",
       "      <td>2.384333</td>\n",
       "      <td>48.716833</td>\n",
       "      <td>Île-de-France</td>\n",
       "    </tr>\n",
       "    <tr>\n",
       "      <th>171293</th>\n",
       "      <td>2019-01-01 07:00:00</td>\n",
       "      <td>2.0</td>\n",
       "      <td>89.0</td>\n",
       "      <td>0.0</td>\n",
       "      <td>ORLY</td>\n",
       "      <td>7.1</td>\n",
       "      <td>89</td>\n",
       "      <td>2.384333</td>\n",
       "      <td>48.716833</td>\n",
       "      <td>Île-de-France</td>\n",
       "    </tr>\n",
       "    <tr>\n",
       "      <th>171299</th>\n",
       "      <td>2019-01-01 10:00:00</td>\n",
       "      <td>2.3</td>\n",
       "      <td>84.0</td>\n",
       "      <td>0.0</td>\n",
       "      <td>ORLY</td>\n",
       "      <td>7.8</td>\n",
       "      <td>89</td>\n",
       "      <td>2.384333</td>\n",
       "      <td>48.716833</td>\n",
       "      <td>Île-de-France</td>\n",
       "    </tr>\n",
       "    <tr>\n",
       "      <th>171307</th>\n",
       "      <td>2019-01-01 13:00:00</td>\n",
       "      <td>3.4</td>\n",
       "      <td>77.0</td>\n",
       "      <td>0.0</td>\n",
       "      <td>ORLY</td>\n",
       "      <td>8.1</td>\n",
       "      <td>89</td>\n",
       "      <td>2.384333</td>\n",
       "      <td>48.716833</td>\n",
       "      <td>Île-de-France</td>\n",
       "    </tr>\n",
       "  </tbody>\n",
       "</table>\n",
       "</div>"
      ],
      "text/plain": [
       "                      Date  Vitesse_Vent_Moyen_10min  Humidite  \\\n",
       "171274 2019-01-01 01:00:00                       2.6      84.0   \n",
       "171286 2019-01-01 04:00:00                       2.3      91.0   \n",
       "171293 2019-01-01 07:00:00                       2.0      89.0   \n",
       "171299 2019-01-01 10:00:00                       2.3      84.0   \n",
       "171307 2019-01-01 13:00:00                       3.4      77.0   \n",
       "\n",
       "        Precipitation_derniere_heure   Nom  Temperature_dC  Altitude  \\\n",
       "171274                           0.0  ORLY             7.9        89   \n",
       "171286                          -0.1  ORLY             7.0        89   \n",
       "171293                           0.0  ORLY             7.1        89   \n",
       "171299                           0.0  ORLY             7.8        89   \n",
       "171307                           0.0  ORLY             8.1        89   \n",
       "\n",
       "        Longitude   Latitude         Region  \n",
       "171274   2.384333  48.716833  Île-de-France  \n",
       "171286   2.384333  48.716833  Île-de-France  \n",
       "171293   2.384333  48.716833  Île-de-France  \n",
       "171299   2.384333  48.716833  Île-de-France  \n",
       "171307   2.384333  48.716833  Île-de-France  "
      ]
     },
     "execution_count": 27,
     "metadata": {},
     "output_type": "execute_result"
    }
   ],
   "source": [
    "df_2 = df[(df[\"Region\"]==\"Île-de-France\") & (df[\"Date\"]>\"2019-01-01\")] # On stock les résultats dans un nouveau dataframe\n",
    "\n",
    "print(f\"Il y a {df_2.shape[0]} observations dans le dataframe filtré\")\n",
    "\n",
    "df_2.head()"
   ]
  },
  {
   "cell_type": "markdown",
   "metadata": {},
   "source": [
    "Vous remarquez que l'index du dataframe d'origine est conservé. Pour différentes raisons, vous pouvez vouloir le faire à nouveau partir de 0, vous pouvez alors utiliser la méthode `reset_index` :"
   ]
  },
  {
   "cell_type": "code",
   "execution_count": 28,
   "metadata": {},
   "outputs": [
    {
     "data": {
      "text/html": [
       "<div>\n",
       "<style scoped>\n",
       "    .dataframe tbody tr th:only-of-type {\n",
       "        vertical-align: middle;\n",
       "    }\n",
       "\n",
       "    .dataframe tbody tr th {\n",
       "        vertical-align: top;\n",
       "    }\n",
       "\n",
       "    .dataframe thead th {\n",
       "        text-align: right;\n",
       "    }\n",
       "</style>\n",
       "<table border=\"1\" class=\"dataframe\">\n",
       "  <thead>\n",
       "    <tr style=\"text-align: right;\">\n",
       "      <th></th>\n",
       "      <th>Date</th>\n",
       "      <th>Vitesse_Vent_Moyen_10min</th>\n",
       "      <th>Humidite</th>\n",
       "      <th>Precipitation_derniere_heure</th>\n",
       "      <th>Nom</th>\n",
       "      <th>Temperature_dC</th>\n",
       "      <th>Altitude</th>\n",
       "      <th>Longitude</th>\n",
       "      <th>Latitude</th>\n",
       "      <th>Region</th>\n",
       "    </tr>\n",
       "  </thead>\n",
       "  <tbody>\n",
       "    <tr>\n",
       "      <th>0</th>\n",
       "      <td>2019-01-01 01:00:00</td>\n",
       "      <td>2.6</td>\n",
       "      <td>84.0</td>\n",
       "      <td>0.0</td>\n",
       "      <td>ORLY</td>\n",
       "      <td>7.9</td>\n",
       "      <td>89</td>\n",
       "      <td>2.384333</td>\n",
       "      <td>48.716833</td>\n",
       "      <td>Île-de-France</td>\n",
       "    </tr>\n",
       "    <tr>\n",
       "      <th>1</th>\n",
       "      <td>2019-01-01 04:00:00</td>\n",
       "      <td>2.3</td>\n",
       "      <td>91.0</td>\n",
       "      <td>-0.1</td>\n",
       "      <td>ORLY</td>\n",
       "      <td>7.0</td>\n",
       "      <td>89</td>\n",
       "      <td>2.384333</td>\n",
       "      <td>48.716833</td>\n",
       "      <td>Île-de-France</td>\n",
       "    </tr>\n",
       "    <tr>\n",
       "      <th>2</th>\n",
       "      <td>2019-01-01 07:00:00</td>\n",
       "      <td>2.0</td>\n",
       "      <td>89.0</td>\n",
       "      <td>0.0</td>\n",
       "      <td>ORLY</td>\n",
       "      <td>7.1</td>\n",
       "      <td>89</td>\n",
       "      <td>2.384333</td>\n",
       "      <td>48.716833</td>\n",
       "      <td>Île-de-France</td>\n",
       "    </tr>\n",
       "    <tr>\n",
       "      <th>3</th>\n",
       "      <td>2019-01-01 10:00:00</td>\n",
       "      <td>2.3</td>\n",
       "      <td>84.0</td>\n",
       "      <td>0.0</td>\n",
       "      <td>ORLY</td>\n",
       "      <td>7.8</td>\n",
       "      <td>89</td>\n",
       "      <td>2.384333</td>\n",
       "      <td>48.716833</td>\n",
       "      <td>Île-de-France</td>\n",
       "    </tr>\n",
       "    <tr>\n",
       "      <th>4</th>\n",
       "      <td>2019-01-01 13:00:00</td>\n",
       "      <td>3.4</td>\n",
       "      <td>77.0</td>\n",
       "      <td>0.0</td>\n",
       "      <td>ORLY</td>\n",
       "      <td>8.1</td>\n",
       "      <td>89</td>\n",
       "      <td>2.384333</td>\n",
       "      <td>48.716833</td>\n",
       "      <td>Île-de-France</td>\n",
       "    </tr>\n",
       "  </tbody>\n",
       "</table>\n",
       "</div>"
      ],
      "text/plain": [
       "                 Date  Vitesse_Vent_Moyen_10min  Humidite  \\\n",
       "0 2019-01-01 01:00:00                       2.6      84.0   \n",
       "1 2019-01-01 04:00:00                       2.3      91.0   \n",
       "2 2019-01-01 07:00:00                       2.0      89.0   \n",
       "3 2019-01-01 10:00:00                       2.3      84.0   \n",
       "4 2019-01-01 13:00:00                       3.4      77.0   \n",
       "\n",
       "   Precipitation_derniere_heure   Nom  Temperature_dC  Altitude  Longitude  \\\n",
       "0                           0.0  ORLY             7.9        89   2.384333   \n",
       "1                          -0.1  ORLY             7.0        89   2.384333   \n",
       "2                           0.0  ORLY             7.1        89   2.384333   \n",
       "3                           0.0  ORLY             7.8        89   2.384333   \n",
       "4                           0.0  ORLY             8.1        89   2.384333   \n",
       "\n",
       "    Latitude         Region  \n",
       "0  48.716833  Île-de-France  \n",
       "1  48.716833  Île-de-France  \n",
       "2  48.716833  Île-de-France  \n",
       "3  48.716833  Île-de-France  \n",
       "4  48.716833  Île-de-France  "
      ]
     },
     "execution_count": 28,
     "metadata": {},
     "output_type": "execute_result"
    }
   ],
   "source": [
    "df_2.reset_index(drop=True).head() # On réindex les données et on supprime l'ancien"
   ]
  },
  {
   "cell_type": "code",
   "execution_count": 29,
   "metadata": {},
   "outputs": [
    {
     "data": {
      "text/html": [
       "<div>\n",
       "<style scoped>\n",
       "    .dataframe tbody tr th:only-of-type {\n",
       "        vertical-align: middle;\n",
       "    }\n",
       "\n",
       "    .dataframe tbody tr th {\n",
       "        vertical-align: top;\n",
       "    }\n",
       "\n",
       "    .dataframe thead th {\n",
       "        text-align: right;\n",
       "    }\n",
       "</style>\n",
       "<table border=\"1\" class=\"dataframe\">\n",
       "  <thead>\n",
       "    <tr style=\"text-align: right;\">\n",
       "      <th></th>\n",
       "      <th>index</th>\n",
       "      <th>Date</th>\n",
       "      <th>Vitesse_Vent_Moyen_10min</th>\n",
       "      <th>Humidite</th>\n",
       "      <th>Precipitation_derniere_heure</th>\n",
       "      <th>Nom</th>\n",
       "      <th>Temperature_dC</th>\n",
       "      <th>Altitude</th>\n",
       "      <th>Longitude</th>\n",
       "      <th>Latitude</th>\n",
       "      <th>Region</th>\n",
       "    </tr>\n",
       "  </thead>\n",
       "  <tbody>\n",
       "    <tr>\n",
       "      <th>0</th>\n",
       "      <td>171274</td>\n",
       "      <td>2019-01-01 01:00:00</td>\n",
       "      <td>2.6</td>\n",
       "      <td>84.0</td>\n",
       "      <td>0.0</td>\n",
       "      <td>ORLY</td>\n",
       "      <td>7.9</td>\n",
       "      <td>89</td>\n",
       "      <td>2.384333</td>\n",
       "      <td>48.716833</td>\n",
       "      <td>Île-de-France</td>\n",
       "    </tr>\n",
       "    <tr>\n",
       "      <th>1</th>\n",
       "      <td>171286</td>\n",
       "      <td>2019-01-01 04:00:00</td>\n",
       "      <td>2.3</td>\n",
       "      <td>91.0</td>\n",
       "      <td>-0.1</td>\n",
       "      <td>ORLY</td>\n",
       "      <td>7.0</td>\n",
       "      <td>89</td>\n",
       "      <td>2.384333</td>\n",
       "      <td>48.716833</td>\n",
       "      <td>Île-de-France</td>\n",
       "    </tr>\n",
       "    <tr>\n",
       "      <th>2</th>\n",
       "      <td>171293</td>\n",
       "      <td>2019-01-01 07:00:00</td>\n",
       "      <td>2.0</td>\n",
       "      <td>89.0</td>\n",
       "      <td>0.0</td>\n",
       "      <td>ORLY</td>\n",
       "      <td>7.1</td>\n",
       "      <td>89</td>\n",
       "      <td>2.384333</td>\n",
       "      <td>48.716833</td>\n",
       "      <td>Île-de-France</td>\n",
       "    </tr>\n",
       "    <tr>\n",
       "      <th>3</th>\n",
       "      <td>171299</td>\n",
       "      <td>2019-01-01 10:00:00</td>\n",
       "      <td>2.3</td>\n",
       "      <td>84.0</td>\n",
       "      <td>0.0</td>\n",
       "      <td>ORLY</td>\n",
       "      <td>7.8</td>\n",
       "      <td>89</td>\n",
       "      <td>2.384333</td>\n",
       "      <td>48.716833</td>\n",
       "      <td>Île-de-France</td>\n",
       "    </tr>\n",
       "    <tr>\n",
       "      <th>4</th>\n",
       "      <td>171307</td>\n",
       "      <td>2019-01-01 13:00:00</td>\n",
       "      <td>3.4</td>\n",
       "      <td>77.0</td>\n",
       "      <td>0.0</td>\n",
       "      <td>ORLY</td>\n",
       "      <td>8.1</td>\n",
       "      <td>89</td>\n",
       "      <td>2.384333</td>\n",
       "      <td>48.716833</td>\n",
       "      <td>Île-de-France</td>\n",
       "    </tr>\n",
       "  </tbody>\n",
       "</table>\n",
       "</div>"
      ],
      "text/plain": [
       "    index                Date  Vitesse_Vent_Moyen_10min  Humidite  \\\n",
       "0  171274 2019-01-01 01:00:00                       2.6      84.0   \n",
       "1  171286 2019-01-01 04:00:00                       2.3      91.0   \n",
       "2  171293 2019-01-01 07:00:00                       2.0      89.0   \n",
       "3  171299 2019-01-01 10:00:00                       2.3      84.0   \n",
       "4  171307 2019-01-01 13:00:00                       3.4      77.0   \n",
       "\n",
       "   Precipitation_derniere_heure   Nom  Temperature_dC  Altitude  Longitude  \\\n",
       "0                           0.0  ORLY             7.9        89   2.384333   \n",
       "1                          -0.1  ORLY             7.0        89   2.384333   \n",
       "2                           0.0  ORLY             7.1        89   2.384333   \n",
       "3                           0.0  ORLY             7.8        89   2.384333   \n",
       "4                           0.0  ORLY             8.1        89   2.384333   \n",
       "\n",
       "    Latitude         Region  \n",
       "0  48.716833  Île-de-France  \n",
       "1  48.716833  Île-de-France  \n",
       "2  48.716833  Île-de-France  \n",
       "3  48.716833  Île-de-France  \n",
       "4  48.716833  Île-de-France  "
      ]
     },
     "execution_count": 29,
     "metadata": {},
     "output_type": "execute_result"
    }
   ],
   "source": [
    "df_2.reset_index(drop=False).head() # On réindex les données et on conserve l'ancien dans une nouvelle variable\n",
    "                                    # Utile pour des jointures ultérieurs"
   ]
  },
  {
   "cell_type": "markdown",
   "metadata": {},
   "source": [
    "Encore une fois, ici vous ne faites que des affichages. Si vous souhaitez écraser le DataFrame, deux possibilités :\n",
    "- `df = df.reset_index()`\n",
    "- Utiliser un paramètre présent dès qu'une fonction altère les dimensions : `inplace`. `df.reset_index(inplace=True)`. Meilleure allocation de la mémoire"
   ]
  },
  {
   "cell_type": "code",
   "execution_count": 30,
   "metadata": {},
   "outputs": [
    {
     "data": {
      "text/html": [
       "<div>\n",
       "<style scoped>\n",
       "    .dataframe tbody tr th:only-of-type {\n",
       "        vertical-align: middle;\n",
       "    }\n",
       "\n",
       "    .dataframe tbody tr th {\n",
       "        vertical-align: top;\n",
       "    }\n",
       "\n",
       "    .dataframe thead th {\n",
       "        text-align: right;\n",
       "    }\n",
       "</style>\n",
       "<table border=\"1\" class=\"dataframe\">\n",
       "  <thead>\n",
       "    <tr style=\"text-align: right;\">\n",
       "      <th></th>\n",
       "      <th>Date</th>\n",
       "      <th>Vitesse_Vent_Moyen_10min</th>\n",
       "      <th>Humidite</th>\n",
       "      <th>Precipitation_derniere_heure</th>\n",
       "      <th>Nom</th>\n",
       "      <th>Temperature_dC</th>\n",
       "      <th>Altitude</th>\n",
       "      <th>Longitude</th>\n",
       "      <th>Latitude</th>\n",
       "      <th>Region</th>\n",
       "    </tr>\n",
       "  </thead>\n",
       "  <tbody>\n",
       "    <tr>\n",
       "      <th>0</th>\n",
       "      <td>2019-01-01 01:00:00</td>\n",
       "      <td>2.6</td>\n",
       "      <td>84.0</td>\n",
       "      <td>0.0</td>\n",
       "      <td>ORLY</td>\n",
       "      <td>7.9</td>\n",
       "      <td>89</td>\n",
       "      <td>2.384333</td>\n",
       "      <td>48.716833</td>\n",
       "      <td>Île-de-France</td>\n",
       "    </tr>\n",
       "    <tr>\n",
       "      <th>1</th>\n",
       "      <td>2019-01-01 04:00:00</td>\n",
       "      <td>2.3</td>\n",
       "      <td>91.0</td>\n",
       "      <td>-0.1</td>\n",
       "      <td>ORLY</td>\n",
       "      <td>7.0</td>\n",
       "      <td>89</td>\n",
       "      <td>2.384333</td>\n",
       "      <td>48.716833</td>\n",
       "      <td>Île-de-France</td>\n",
       "    </tr>\n",
       "    <tr>\n",
       "      <th>2</th>\n",
       "      <td>2019-01-01 07:00:00</td>\n",
       "      <td>2.0</td>\n",
       "      <td>89.0</td>\n",
       "      <td>0.0</td>\n",
       "      <td>ORLY</td>\n",
       "      <td>7.1</td>\n",
       "      <td>89</td>\n",
       "      <td>2.384333</td>\n",
       "      <td>48.716833</td>\n",
       "      <td>Île-de-France</td>\n",
       "    </tr>\n",
       "    <tr>\n",
       "      <th>3</th>\n",
       "      <td>2019-01-01 10:00:00</td>\n",
       "      <td>2.3</td>\n",
       "      <td>84.0</td>\n",
       "      <td>0.0</td>\n",
       "      <td>ORLY</td>\n",
       "      <td>7.8</td>\n",
       "      <td>89</td>\n",
       "      <td>2.384333</td>\n",
       "      <td>48.716833</td>\n",
       "      <td>Île-de-France</td>\n",
       "    </tr>\n",
       "    <tr>\n",
       "      <th>4</th>\n",
       "      <td>2019-01-01 13:00:00</td>\n",
       "      <td>3.4</td>\n",
       "      <td>77.0</td>\n",
       "      <td>0.0</td>\n",
       "      <td>ORLY</td>\n",
       "      <td>8.1</td>\n",
       "      <td>89</td>\n",
       "      <td>2.384333</td>\n",
       "      <td>48.716833</td>\n",
       "      <td>Île-de-France</td>\n",
       "    </tr>\n",
       "  </tbody>\n",
       "</table>\n",
       "</div>"
      ],
      "text/plain": [
       "                 Date  Vitesse_Vent_Moyen_10min  Humidite  \\\n",
       "0 2019-01-01 01:00:00                       2.6      84.0   \n",
       "1 2019-01-01 04:00:00                       2.3      91.0   \n",
       "2 2019-01-01 07:00:00                       2.0      89.0   \n",
       "3 2019-01-01 10:00:00                       2.3      84.0   \n",
       "4 2019-01-01 13:00:00                       3.4      77.0   \n",
       "\n",
       "   Precipitation_derniere_heure   Nom  Temperature_dC  Altitude  Longitude  \\\n",
       "0                           0.0  ORLY             7.9        89   2.384333   \n",
       "1                          -0.1  ORLY             7.0        89   2.384333   \n",
       "2                           0.0  ORLY             7.1        89   2.384333   \n",
       "3                           0.0  ORLY             7.8        89   2.384333   \n",
       "4                           0.0  ORLY             8.1        89   2.384333   \n",
       "\n",
       "    Latitude         Region  \n",
       "0  48.716833  Île-de-France  \n",
       "1  48.716833  Île-de-France  \n",
       "2  48.716833  Île-de-France  \n",
       "3  48.716833  Île-de-France  \n",
       "4  48.716833  Île-de-France  "
      ]
     },
     "execution_count": 30,
     "metadata": {},
     "output_type": "execute_result"
    }
   ],
   "source": [
    "df_2.reset_index(drop=True, inplace=True)\n",
    "\n",
    "df_2.head()"
   ]
  },
  {
   "cell_type": "markdown",
   "metadata": {},
   "source": [
    "## **<span style=\"color:#3775a8\">2.3. Sélection & filtre via les index : iloc </span>**\n",
    "\n",
    "Les fonctions `loc` et `iloc` permettent de selectionner de manière explicite les lignes et les colonnes d'un DataFrame en faisant référence à leurs index :\n",
    "- **Le loc indexer** permet de pointer sur les index des lignes et des colonnes par leur nom\n",
    "- **L'iloc indexer** le fait par leur indice\n",
    "\n",
    "**Syntaxe :** `df.iloc[row selection, column selection]`"
   ]
  },
  {
   "cell_type": "code",
   "execution_count": 31,
   "metadata": {},
   "outputs": [
    {
     "data": {
      "text/plain": [
       "Date                            2011-01-01 01:00:00\n",
       "Vitesse_Vent_Moyen_10min                        3.1\n",
       "Humidite                                         84\n",
       "Precipitation_derniere_heure                    NaN\n",
       "Nom                                    JUAN DE NOVA\n",
       "Temperature_dC                                 27.9\n",
       "Altitude                                          9\n",
       "Longitude                                    42.712\n",
       "Latitude                                   -17.0547\n",
       "Region                                          NaN\n",
       "Name: 3, dtype: object"
      ]
     },
     "execution_count": 31,
     "metadata": {},
     "output_type": "execute_result"
    }
   ],
   "source": [
    "df.iloc[3] # Selectionne la 4ème ligne comme une Series"
   ]
  },
  {
   "cell_type": "code",
   "execution_count": 32,
   "metadata": {},
   "outputs": [
    {
     "data": {
      "text/html": [
       "<div>\n",
       "<style scoped>\n",
       "    .dataframe tbody tr th:only-of-type {\n",
       "        vertical-align: middle;\n",
       "    }\n",
       "\n",
       "    .dataframe tbody tr th {\n",
       "        vertical-align: top;\n",
       "    }\n",
       "\n",
       "    .dataframe thead th {\n",
       "        text-align: right;\n",
       "    }\n",
       "</style>\n",
       "<table border=\"1\" class=\"dataframe\">\n",
       "  <thead>\n",
       "    <tr style=\"text-align: right;\">\n",
       "      <th></th>\n",
       "      <th>Date</th>\n",
       "      <th>Vitesse_Vent_Moyen_10min</th>\n",
       "      <th>Humidite</th>\n",
       "      <th>Precipitation_derniere_heure</th>\n",
       "      <th>Nom</th>\n",
       "      <th>Temperature_dC</th>\n",
       "      <th>Altitude</th>\n",
       "      <th>Longitude</th>\n",
       "      <th>Latitude</th>\n",
       "      <th>Region</th>\n",
       "    </tr>\n",
       "  </thead>\n",
       "  <tbody>\n",
       "    <tr>\n",
       "      <th>1</th>\n",
       "      <td>2011-01-01 01:00:00</td>\n",
       "      <td>2.1</td>\n",
       "      <td>94.0</td>\n",
       "      <td>0.0</td>\n",
       "      <td>ORLY</td>\n",
       "      <td>-0.7</td>\n",
       "      <td>89</td>\n",
       "      <td>2.384333</td>\n",
       "      <td>48.716833</td>\n",
       "      <td>Île-de-France</td>\n",
       "    </tr>\n",
       "    <tr>\n",
       "      <th>2</th>\n",
       "      <td>2011-01-01 01:00:00</td>\n",
       "      <td>0.0</td>\n",
       "      <td>87.0</td>\n",
       "      <td>0.0</td>\n",
       "      <td>MARIGNANE</td>\n",
       "      <td>8.0</td>\n",
       "      <td>9</td>\n",
       "      <td>5.216000</td>\n",
       "      <td>43.437667</td>\n",
       "      <td>Provence-Alpes-Côte d'Azur</td>\n",
       "    </tr>\n",
       "    <tr>\n",
       "      <th>3</th>\n",
       "      <td>2011-01-01 01:00:00</td>\n",
       "      <td>3.1</td>\n",
       "      <td>84.0</td>\n",
       "      <td>NaN</td>\n",
       "      <td>JUAN DE NOVA</td>\n",
       "      <td>27.9</td>\n",
       "      <td>9</td>\n",
       "      <td>42.712000</td>\n",
       "      <td>-17.054667</td>\n",
       "      <td>NaN</td>\n",
       "    </tr>\n",
       "  </tbody>\n",
       "</table>\n",
       "</div>"
      ],
      "text/plain": [
       "                 Date  Vitesse_Vent_Moyen_10min  Humidite  \\\n",
       "1 2011-01-01 01:00:00                       2.1      94.0   \n",
       "2 2011-01-01 01:00:00                       0.0      87.0   \n",
       "3 2011-01-01 01:00:00                       3.1      84.0   \n",
       "\n",
       "   Precipitation_derniere_heure           Nom  Temperature_dC  Altitude  \\\n",
       "1                           0.0          ORLY            -0.7        89   \n",
       "2                           0.0     MARIGNANE             8.0         9   \n",
       "3                           NaN  JUAN DE NOVA            27.9         9   \n",
       "\n",
       "   Longitude   Latitude                      Region  \n",
       "1   2.384333  48.716833               Île-de-France  \n",
       "2   5.216000  43.437667  Provence-Alpes-Côte d'Azur  \n",
       "3  42.712000 -17.054667                         NaN  "
      ]
     },
     "execution_count": 32,
     "metadata": {},
     "output_type": "execute_result"
    }
   ],
   "source": [
    "df.iloc[[1, 2, 3]] # selectionne la 2ème la 3ème et la 4ème ligne"
   ]
  },
  {
   "cell_type": "code",
   "execution_count": 33,
   "metadata": {},
   "outputs": [
    {
     "data": {
      "text/html": [
       "<div>\n",
       "<style scoped>\n",
       "    .dataframe tbody tr th:only-of-type {\n",
       "        vertical-align: middle;\n",
       "    }\n",
       "\n",
       "    .dataframe tbody tr th {\n",
       "        vertical-align: top;\n",
       "    }\n",
       "\n",
       "    .dataframe thead th {\n",
       "        text-align: right;\n",
       "    }\n",
       "</style>\n",
       "<table border=\"1\" class=\"dataframe\">\n",
       "  <thead>\n",
       "    <tr style=\"text-align: right;\">\n",
       "      <th></th>\n",
       "      <th>Date</th>\n",
       "      <th>Vitesse_Vent_Moyen_10min</th>\n",
       "      <th>Humidite</th>\n",
       "      <th>Precipitation_derniere_heure</th>\n",
       "      <th>Nom</th>\n",
       "      <th>Temperature_dC</th>\n",
       "      <th>Altitude</th>\n",
       "      <th>Longitude</th>\n",
       "      <th>Latitude</th>\n",
       "      <th>Region</th>\n",
       "    </tr>\n",
       "  </thead>\n",
       "  <tbody>\n",
       "    <tr>\n",
       "      <th>1</th>\n",
       "      <td>2011-01-01 01:00:00</td>\n",
       "      <td>2.1</td>\n",
       "      <td>94.0</td>\n",
       "      <td>0.0</td>\n",
       "      <td>ORLY</td>\n",
       "      <td>-0.7</td>\n",
       "      <td>89</td>\n",
       "      <td>2.384333</td>\n",
       "      <td>48.716833</td>\n",
       "      <td>Île-de-France</td>\n",
       "    </tr>\n",
       "    <tr>\n",
       "      <th>2</th>\n",
       "      <td>2011-01-01 01:00:00</td>\n",
       "      <td>0.0</td>\n",
       "      <td>87.0</td>\n",
       "      <td>0.0</td>\n",
       "      <td>MARIGNANE</td>\n",
       "      <td>8.0</td>\n",
       "      <td>9</td>\n",
       "      <td>5.216000</td>\n",
       "      <td>43.437667</td>\n",
       "      <td>Provence-Alpes-Côte d'Azur</td>\n",
       "    </tr>\n",
       "    <tr>\n",
       "      <th>3</th>\n",
       "      <td>2011-01-01 01:00:00</td>\n",
       "      <td>3.1</td>\n",
       "      <td>84.0</td>\n",
       "      <td>NaN</td>\n",
       "      <td>JUAN DE NOVA</td>\n",
       "      <td>27.9</td>\n",
       "      <td>9</td>\n",
       "      <td>42.712000</td>\n",
       "      <td>-17.054667</td>\n",
       "      <td>NaN</td>\n",
       "    </tr>\n",
       "  </tbody>\n",
       "</table>\n",
       "</div>"
      ],
      "text/plain": [
       "                 Date  Vitesse_Vent_Moyen_10min  Humidite  \\\n",
       "1 2011-01-01 01:00:00                       2.1      94.0   \n",
       "2 2011-01-01 01:00:00                       0.0      87.0   \n",
       "3 2011-01-01 01:00:00                       3.1      84.0   \n",
       "\n",
       "   Precipitation_derniere_heure           Nom  Temperature_dC  Altitude  \\\n",
       "1                           0.0          ORLY            -0.7        89   \n",
       "2                           0.0     MARIGNANE             8.0         9   \n",
       "3                           NaN  JUAN DE NOVA            27.9         9   \n",
       "\n",
       "   Longitude   Latitude                      Region  \n",
       "1   2.384333  48.716833               Île-de-France  \n",
       "2   5.216000  43.437667  Provence-Alpes-Côte d'Azur  \n",
       "3  42.712000 -17.054667                         NaN  "
      ]
     },
     "execution_count": 33,
     "metadata": {},
     "output_type": "execute_result"
    }
   ],
   "source": [
    "df.iloc[1:4] # La même chose mais en utilisant le slice"
   ]
  },
  {
   "cell_type": "code",
   "execution_count": 34,
   "metadata": {},
   "outputs": [
    {
     "data": {
      "text/html": [
       "<div>\n",
       "<style scoped>\n",
       "    .dataframe tbody tr th:only-of-type {\n",
       "        vertical-align: middle;\n",
       "    }\n",
       "\n",
       "    .dataframe tbody tr th {\n",
       "        vertical-align: top;\n",
       "    }\n",
       "\n",
       "    .dataframe thead th {\n",
       "        text-align: right;\n",
       "    }\n",
       "</style>\n",
       "<table border=\"1\" class=\"dataframe\">\n",
       "  <thead>\n",
       "    <tr style=\"text-align: right;\">\n",
       "      <th></th>\n",
       "      <th>Date</th>\n",
       "      <th>Vitesse_Vent_Moyen_10min</th>\n",
       "      <th>Humidite</th>\n",
       "      <th>Precipitation_derniere_heure</th>\n",
       "      <th>Nom</th>\n",
       "      <th>Temperature_dC</th>\n",
       "      <th>Altitude</th>\n",
       "      <th>Longitude</th>\n",
       "      <th>Latitude</th>\n",
       "      <th>Region</th>\n",
       "    </tr>\n",
       "  </thead>\n",
       "  <tbody>\n",
       "    <tr>\n",
       "      <th>210922</th>\n",
       "      <td>2020-12-31 22:00:00</td>\n",
       "      <td>1.4</td>\n",
       "      <td>95.0</td>\n",
       "      <td>0.0</td>\n",
       "      <td>BORDEAUX-MERIGNAC</td>\n",
       "      <td>2.8</td>\n",
       "      <td>47</td>\n",
       "      <td>-0.691333</td>\n",
       "      <td>44.830667</td>\n",
       "      <td>Nouvelle-Aquitaine</td>\n",
       "    </tr>\n",
       "    <tr>\n",
       "      <th>210923</th>\n",
       "      <td>2020-12-31 22:00:00</td>\n",
       "      <td>1.9</td>\n",
       "      <td>92.0</td>\n",
       "      <td>0.0</td>\n",
       "      <td>ORLY</td>\n",
       "      <td>1.1</td>\n",
       "      <td>89</td>\n",
       "      <td>2.384333</td>\n",
       "      <td>48.716833</td>\n",
       "      <td>Île-de-France</td>\n",
       "    </tr>\n",
       "    <tr>\n",
       "      <th>210924</th>\n",
       "      <td>2020-12-31 22:00:00</td>\n",
       "      <td>0.8</td>\n",
       "      <td>93.0</td>\n",
       "      <td>0.0</td>\n",
       "      <td>STRASBOURG-ENTZHEIM</td>\n",
       "      <td>2.4</td>\n",
       "      <td>150</td>\n",
       "      <td>7.640333</td>\n",
       "      <td>48.549500</td>\n",
       "      <td>Grand Est</td>\n",
       "    </tr>\n",
       "    <tr>\n",
       "      <th>210925</th>\n",
       "      <td>2020-12-31 22:00:00</td>\n",
       "      <td>3.3</td>\n",
       "      <td>95.0</td>\n",
       "      <td>0.0</td>\n",
       "      <td>BREST-GUIPAVAS</td>\n",
       "      <td>1.7</td>\n",
       "      <td>94</td>\n",
       "      <td>-4.412000</td>\n",
       "      <td>48.444167</td>\n",
       "      <td>Bretagne</td>\n",
       "    </tr>\n",
       "  </tbody>\n",
       "</table>\n",
       "</div>"
      ],
      "text/plain": [
       "                      Date  Vitesse_Vent_Moyen_10min  Humidite  \\\n",
       "210922 2020-12-31 22:00:00                       1.4      95.0   \n",
       "210923 2020-12-31 22:00:00                       1.9      92.0   \n",
       "210924 2020-12-31 22:00:00                       0.8      93.0   \n",
       "210925 2020-12-31 22:00:00                       3.3      95.0   \n",
       "\n",
       "        Precipitation_derniere_heure                  Nom  Temperature_dC  \\\n",
       "210922                           0.0    BORDEAUX-MERIGNAC             2.8   \n",
       "210923                           0.0                 ORLY             1.1   \n",
       "210924                           0.0  STRASBOURG-ENTZHEIM             2.4   \n",
       "210925                           0.0       BREST-GUIPAVAS             1.7   \n",
       "\n",
       "        Altitude  Longitude   Latitude              Region  \n",
       "210922        47  -0.691333  44.830667  Nouvelle-Aquitaine  \n",
       "210923        89   2.384333  48.716833       Île-de-France  \n",
       "210924       150   7.640333  48.549500           Grand Est  \n",
       "210925        94  -4.412000  48.444167            Bretagne  "
      ]
     },
     "execution_count": 34,
     "metadata": {},
     "output_type": "execute_result"
    }
   ],
   "source": [
    "df.iloc[210922:] # Selection des lignes 210922 à la fin"
   ]
  },
  {
   "cell_type": "code",
   "execution_count": 35,
   "metadata": {},
   "outputs": [
    {
     "data": {
      "text/html": [
       "<div>\n",
       "<style scoped>\n",
       "    .dataframe tbody tr th:only-of-type {\n",
       "        vertical-align: middle;\n",
       "    }\n",
       "\n",
       "    .dataframe tbody tr th {\n",
       "        vertical-align: top;\n",
       "    }\n",
       "\n",
       "    .dataframe thead th {\n",
       "        text-align: right;\n",
       "    }\n",
       "</style>\n",
       "<table border=\"1\" class=\"dataframe\">\n",
       "  <thead>\n",
       "    <tr style=\"text-align: right;\">\n",
       "      <th></th>\n",
       "      <th>Date</th>\n",
       "      <th>Vitesse_Vent_Moyen_10min</th>\n",
       "      <th>Humidite</th>\n",
       "      <th>Precipitation_derniere_heure</th>\n",
       "      <th>Nom</th>\n",
       "      <th>Temperature_dC</th>\n",
       "      <th>Altitude</th>\n",
       "      <th>Longitude</th>\n",
       "      <th>Latitude</th>\n",
       "      <th>Region</th>\n",
       "    </tr>\n",
       "  </thead>\n",
       "  <tbody>\n",
       "    <tr>\n",
       "      <th>210922</th>\n",
       "      <td>2020-12-31 22:00:00</td>\n",
       "      <td>1.4</td>\n",
       "      <td>95.0</td>\n",
       "      <td>0.0</td>\n",
       "      <td>BORDEAUX-MERIGNAC</td>\n",
       "      <td>2.8</td>\n",
       "      <td>47</td>\n",
       "      <td>-0.691333</td>\n",
       "      <td>44.830667</td>\n",
       "      <td>Nouvelle-Aquitaine</td>\n",
       "    </tr>\n",
       "    <tr>\n",
       "      <th>210924</th>\n",
       "      <td>2020-12-31 22:00:00</td>\n",
       "      <td>0.8</td>\n",
       "      <td>93.0</td>\n",
       "      <td>0.0</td>\n",
       "      <td>STRASBOURG-ENTZHEIM</td>\n",
       "      <td>2.4</td>\n",
       "      <td>150</td>\n",
       "      <td>7.640333</td>\n",
       "      <td>48.549500</td>\n",
       "      <td>Grand Est</td>\n",
       "    </tr>\n",
       "  </tbody>\n",
       "</table>\n",
       "</div>"
      ],
      "text/plain": [
       "                      Date  Vitesse_Vent_Moyen_10min  Humidite  \\\n",
       "210922 2020-12-31 22:00:00                       1.4      95.0   \n",
       "210924 2020-12-31 22:00:00                       0.8      93.0   \n",
       "\n",
       "        Precipitation_derniere_heure                  Nom  Temperature_dC  \\\n",
       "210922                           0.0    BORDEAUX-MERIGNAC             2.8   \n",
       "210924                           0.0  STRASBOURG-ENTZHEIM             2.4   \n",
       "\n",
       "        Altitude  Longitude   Latitude              Region  \n",
       "210922        47  -0.691333  44.830667  Nouvelle-Aquitaine  \n",
       "210924       150   7.640333  48.549500           Grand Est  "
      ]
     },
     "execution_count": 35,
     "metadata": {},
     "output_type": "execute_result"
    }
   ],
   "source": [
    "df.iloc[210922::2] # Selection des lignes 210922 à la fin par pas de 2"
   ]
  },
  {
   "cell_type": "code",
   "execution_count": 36,
   "metadata": {},
   "outputs": [
    {
     "data": {
      "text/plain": [
       "0         97.0\n",
       "1         94.0\n",
       "2         87.0\n",
       "3         84.0\n",
       "4         92.0\n",
       "          ... \n",
       "210921    82.0\n",
       "210922    95.0\n",
       "210923    92.0\n",
       "210924    93.0\n",
       "210925    95.0\n",
       "Name: Humidite, Length: 210926, dtype: float64"
      ]
     },
     "execution_count": 36,
     "metadata": {},
     "output_type": "execute_result"
    }
   ],
   "source": [
    "df.iloc[:,2] # Selectionne toute les lignes de la 3ème colonne"
   ]
  },
  {
   "cell_type": "code",
   "execution_count": 37,
   "metadata": {},
   "outputs": [
    {
     "data": {
      "text/html": [
       "<div>\n",
       "<style scoped>\n",
       "    .dataframe tbody tr th:only-of-type {\n",
       "        vertical-align: middle;\n",
       "    }\n",
       "\n",
       "    .dataframe tbody tr th {\n",
       "        vertical-align: top;\n",
       "    }\n",
       "\n",
       "    .dataframe thead th {\n",
       "        text-align: right;\n",
       "    }\n",
       "</style>\n",
       "<table border=\"1\" class=\"dataframe\">\n",
       "  <thead>\n",
       "    <tr style=\"text-align: right;\">\n",
       "      <th></th>\n",
       "      <th>Humidite</th>\n",
       "      <th>Nom</th>\n",
       "    </tr>\n",
       "  </thead>\n",
       "  <tbody>\n",
       "    <tr>\n",
       "      <th>6</th>\n",
       "      <td>98.0</td>\n",
       "      <td>CLERMONT-FD</td>\n",
       "    </tr>\n",
       "    <tr>\n",
       "      <th>7</th>\n",
       "      <td>42.0</td>\n",
       "      <td>DUMONT D'URVILLE</td>\n",
       "    </tr>\n",
       "  </tbody>\n",
       "</table>\n",
       "</div>"
      ],
      "text/plain": [
       "   Humidite               Nom\n",
       "6      98.0       CLERMONT-FD\n",
       "7      42.0  DUMONT D'URVILLE"
      ]
     },
     "execution_count": 37,
     "metadata": {},
     "output_type": "execute_result"
    }
   ],
   "source": [
    "df.iloc[[6, 7],[2, 4]] # Selectionne 2 lignes, 2 colonnes"
   ]
  },
  {
   "cell_type": "code",
   "execution_count": 38,
   "metadata": {},
   "outputs": [
    {
     "data": {
      "text/html": [
       "<div>\n",
       "<style scoped>\n",
       "    .dataframe tbody tr th:only-of-type {\n",
       "        vertical-align: middle;\n",
       "    }\n",
       "\n",
       "    .dataframe tbody tr th {\n",
       "        vertical-align: top;\n",
       "    }\n",
       "\n",
       "    .dataframe thead th {\n",
       "        text-align: right;\n",
       "    }\n",
       "</style>\n",
       "<table border=\"1\" class=\"dataframe\">\n",
       "  <thead>\n",
       "    <tr style=\"text-align: right;\">\n",
       "      <th></th>\n",
       "      <th>Humidite</th>\n",
       "      <th>Precipitation_derniere_heure</th>\n",
       "    </tr>\n",
       "  </thead>\n",
       "  <tbody>\n",
       "    <tr>\n",
       "      <th>1</th>\n",
       "      <td>94.0</td>\n",
       "      <td>0.0</td>\n",
       "    </tr>\n",
       "    <tr>\n",
       "      <th>2</th>\n",
       "      <td>87.0</td>\n",
       "      <td>0.0</td>\n",
       "    </tr>\n",
       "  </tbody>\n",
       "</table>\n",
       "</div>"
      ],
      "text/plain": [
       "   Humidite  Precipitation_derniere_heure\n",
       "1      94.0                           0.0\n",
       "2      87.0                           0.0"
      ]
     },
     "execution_count": 38,
     "metadata": {},
     "output_type": "execute_result"
    }
   ],
   "source": [
    "df.iloc[1:3,2:4] # Selectionne 2 lignes, 2 colonnes avec des slices"
   ]
  },
  {
   "cell_type": "code",
   "execution_count": 39,
   "metadata": {},
   "outputs": [
    {
     "data": {
      "text/plain": [
       "Timestamp('2011-01-01 01:00:00')"
      ]
     },
     "execution_count": 39,
     "metadata": {},
     "output_type": "execute_result"
    }
   ],
   "source": [
    "df.iloc[0,0] # Selectionne la première valeur de la première colonne"
   ]
  },
  {
   "cell_type": "markdown",
   "metadata": {},
   "source": [
    "## **<span style=\"color:#3775a8\">2.4. Sélection & filtre via les index : loc </span>**\n",
    "\n",
    "L'utilisation de `loc` est similaire de celle de `iloc`. On selectionne une partie des lignes, des colonnes, des deux en utilisant **le nom des index**.\n",
    "\n",
    "On peut donc sélectionner une donnée par son nom de ligne et de colonne.\n",
    "\n",
    "**Remarque :** Si l'index des lignes est numérique on n'utilise pas de guillemet"
   ]
  },
  {
   "cell_type": "code",
   "execution_count": 40,
   "metadata": {},
   "outputs": [
    {
     "data": {
      "text/plain": [
       "Date                            2011-01-01 01:00:00\n",
       "Vitesse_Vent_Moyen_10min                        2.1\n",
       "Humidite                                         94\n",
       "Precipitation_derniere_heure                      0\n",
       "Nom                                            ORLY\n",
       "Temperature_dC                                 -0.7\n",
       "Altitude                                         89\n",
       "Longitude                                   2.38433\n",
       "Latitude                                    48.7168\n",
       "Region                                Île-de-France\n",
       "Name: 1, dtype: object"
      ]
     },
     "execution_count": 40,
     "metadata": {},
     "output_type": "execute_result"
    }
   ],
   "source": [
    "df.loc[1] # Selectionne la première ligne"
   ]
  },
  {
   "cell_type": "code",
   "execution_count": 41,
   "metadata": {},
   "outputs": [
    {
     "data": {
      "text/plain": [
       "0                 Nouvelle-Aquitaine\n",
       "1                      Île-de-France\n",
       "2         Provence-Alpes-Côte d'Azur\n",
       "3                                NaN\n",
       "4                          Grand Est\n",
       "                     ...            \n",
       "210921    Provence-Alpes-Côte d'Azur\n",
       "210922            Nouvelle-Aquitaine\n",
       "210923                 Île-de-France\n",
       "210924                     Grand Est\n",
       "210925                      Bretagne\n",
       "Name: Region, Length: 210926, dtype: object"
      ]
     },
     "execution_count": 41,
     "metadata": {},
     "output_type": "execute_result"
    }
   ],
   "source": [
    "df.loc[:,'Region'] # Selectionne toutes les lignes de la colonne Region"
   ]
  },
  {
   "cell_type": "markdown",
   "metadata": {},
   "source": [
    "### *En conclusion*\n",
    "\n",
    "`loc` et `iloc` permettent de selection des sous ensemble d'un DataFrame à partir des indice des index ou de leur nom."
   ]
  },
  {
   "cell_type": "markdown",
   "metadata": {},
   "source": [
    "# **<span style=\"color:#37a871\">Félicitations !</span>**\n",
    "\n",
    "Félicitations vous disposez maintenant d'une large palette de techniques pour manipuler vos données! Vous êtes prets à passer au nettoyage !"
   ]
  },
  {
   "cell_type": "code",
   "execution_count": null,
   "metadata": {},
   "outputs": [],
   "source": []
  }
 ],
 "metadata": {
  "kernelspec": {
   "display_name": "Python 3",
   "language": "python",
   "name": "python3"
  },
  "language_info": {
   "codemirror_mode": {
    "name": "ipython",
    "version": 3
   },
   "file_extension": ".py",
   "mimetype": "text/x-python",
   "name": "python",
   "nbconvert_exporter": "python",
   "pygments_lexer": "ipython3",
   "version": "3.8.3"
  }
 },
 "nbformat": 4,
 "nbformat_minor": 4
}
