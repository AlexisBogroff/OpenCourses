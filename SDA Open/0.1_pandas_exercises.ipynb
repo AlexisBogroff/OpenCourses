{
 "cells": [
  {
   "cell_type": "markdown",
   "metadata": {},
   "source": [
    "<center><img src=\"msc/sda_banner.png\" width=\"850\" height=\"200\"></center>"
   ]
  },
  {
   "cell_type": "markdown",
   "metadata": {},
   "source": [
    "# Data Management - Part I"
   ]
  },
  {
   "cell_type": "markdown",
   "metadata": {},
   "source": [
    "Core concepts of Series and DataFrames to train on:\n",
    "- create a Series / DataFrame\n",
    "- delete a Series / DataFrame\n",
    "- add an element\n",
    "- delete an element\n",
    "- retrieve an element\n",
    "- modify an element\n",
    "\n",
    "These can be done for a single element or for multiple elements as seen in the course.\n"
   ]
  },
  {
   "cell_type": "markdown",
   "metadata": {},
   "source": [
    "## Introduction"
   ]
  },
  {
   "cell_type": "markdown",
   "metadata": {},
   "source": [
    "In this series of exercises we are going to follow the adventures of a young robot endowed with capacity to feel emotions named \"Eoki\". Eoki can learn fast, but is also a sensible HR (Human-Robot), so please be gentle!"
   ]
  },
  {
   "cell_type": "markdown",
   "metadata": {},
   "source": [
    "<center><img src=\"msc/Eoki_base.png\" width=\"100\" height=\"100\"></center>"
   ]
  },
  {
   "cell_type": "markdown",
   "metadata": {},
   "source": [
    "Eoki loves animals, but its favorites are pandas! You are going to help Eoki find where its pandas friends are located, ensure they are in a good shape and in a safe environment with enough healthy food."
   ]
  },
  {
   "cell_type": "markdown",
   "metadata": {},
   "source": [
    "## 1.1 - Import & Explore"
   ]
  },
  {
   "cell_type": "markdown",
   "metadata": {},
   "source": [
    "Eoki heard in the news that it was possible to transport animals on large distances by communicating through an API (Application Programming Interface) with a cloud platform specialized in autonomous drones. Yes, Eoki too has started to learn Python since it enables infinite possibilities in its world!\n",
    "\n",
    "Eoki would like to protect the remaining pandas from Earth by importing the pandas in its country, the last country without frequent wars on Earth. You can help Eoki by running a single line of Python to import pandas to its country."
   ]
  },
  {
   "cell_type": "markdown",
   "metadata": {},
   "source": [
    "**Q1: Import the pandas package. For convinience, we would like to use an alias for this package, let's use 'pd' like the whole Python community**"
   ]
  },
  {
   "cell_type": "code",
   "execution_count": 2,
   "metadata": {},
   "outputs": [],
   "source": [
    "## ------- YOUR CODE HERE ------- ##\n"
   ]
  },
  {
   "cell_type": "markdown",
   "metadata": {},
   "source": [
    "It seems that a lot of pandas have been imported! Let's check that they properly landed"
   ]
  },
  {
   "cell_type": "markdown",
   "metadata": {},
   "source": [
    "**Q2: Verify by any mean that the package has been correctly imported**  \n",
    "Hint :If the import failed, it should have throw an error, or the methods should not be working."
   ]
  },
  {
   "cell_type": "code",
   "execution_count": 3,
   "metadata": {},
   "outputs": [],
   "source": [
    "## ------- YOUR CODE HERE ------- ##\n"
   ]
  },
  {
   "cell_type": "markdown",
   "metadata": {},
   "source": [
    "Even though it is not yet possible for Eoki to see them, some information were transmitted by the cloud platform about each panda:\n",
    "- age\n",
    "- size\n",
    "- weight"
   ]
  },
  {
   "cell_type": "markdown",
   "metadata": {},
   "source": [
    "**Q3: Create a pandas Series for each variable (age, size, weight):**\n",
    "- age:    2,   5,   1,  12,  4\n",
    "- size:   100,  160, 60, 170, 180\n",
    "- weight: 12, 120, 70, 130, 130"
   ]
  },
  {
   "cell_type": "code",
   "execution_count": 4,
   "metadata": {},
   "outputs": [],
   "source": [
    "## ------- YOUR CODE HERE ------- ##\n"
   ]
  },
  {
   "cell_type": "markdown",
   "metadata": {},
   "source": [
    "Eoki would like to know these pandas before it can see them. Thus, Eoki is diving into the data that have been transfered in order to mentally visualize these nice pandas. Also, it would like to give them names. I told you, Eoki has feelings :)"
   ]
  },
  {
   "cell_type": "markdown",
   "metadata": {},
   "source": [
    "**Q4: Rename the index of each series with the following names (in that order):**\n",
    "- foo\n",
    "- bar\n",
    "- lazy\n",
    "- greedy\n",
    "- kwargs"
   ]
  },
  {
   "cell_type": "code",
   "execution_count": 5,
   "metadata": {},
   "outputs": [],
   "source": [
    "## ------- YOUR CODE HERE ------- ##\n"
   ]
  },
  {
   "cell_type": "markdown",
   "metadata": {},
   "source": [
    "Woow, these are strange names. Eoki is a robot in the end, please don't judge it."
   ]
  },
  {
   "cell_type": "markdown",
   "metadata": {},
   "source": [
    "Let's try to understand why Eoki chose those names:\n",
    "- it seems for the first and second that Eoki lacked some inspiration. Indeed, in the Python community, tutorials and reference documentations usually use *foo* and *bar* as variable names when explaining a code snippet (little portion of code).\n",
    "- lazy often refers to programs that do the minimum of work.\n",
    "- greedy are the opposite of lazy programs, they do all the possible work, a kind of overzealous worker.\n",
    "- kwargs, well, let's talk about that directly with your tutors"
   ]
  },
  {
   "cell_type": "markdown",
   "metadata": {},
   "source": [
    "**Q5: Display the name, age, size and weight of the first panda in the series**  \n",
    "Expected output: The first panda 'foo' is 2 old, 20 tall and weights 40"
   ]
  },
  {
   "cell_type": "code",
   "execution_count": 6,
   "metadata": {},
   "outputs": [],
   "source": [
    "## ------- YOUR CODE HERE ------- ##\n"
   ]
  },
  {
   "cell_type": "markdown",
   "metadata": {},
   "source": [
    "According to [some articles](https://www.chinahighlights.com/giant-panda/life-cycle.htm) this panda seems in the norm. No doubt Eoki named it *foo* because it is standard!"
   ]
  },
  {
   "cell_type": "markdown",
   "metadata": {},
   "source": [
    "**Q6: Display the name, age, size and weight of the second panda in the series**  \n",
    "Expected: The second panda 'bar' is 5 year(s) old, 160 tall and weights 120"
   ]
  },
  {
   "cell_type": "code",
   "execution_count": 7,
   "metadata": {},
   "outputs": [],
   "source": [
    "## ------- YOUR CODE HERE ------- ##\n"
   ]
  },
  {
   "cell_type": "markdown",
   "metadata": {},
   "source": [
    "**Q7: Display the name, age, size and weight of the second panda in the series**  \n",
    "Expected: The third panda\n",
    " 'lazy' is 1 year(s) old, 60 tall and weights 70"
   ]
  },
  {
   "cell_type": "code",
   "execution_count": 8,
   "metadata": {},
   "outputs": [],
   "source": [
    "## ------- YOUR CODE HERE ------- ##\n"
   ]
  },
  {
   "cell_type": "markdown",
   "metadata": {},
   "source": [
    "Woooow! This is not a job for lazy robots, doing it over again for each panda is quite boring, nor is it beautiful. Isn't everything about beauty in the end?"
   ]
  },
  {
   "cell_type": "markdown",
   "metadata": {},
   "source": [
    "**Q8: Display the name, age, size and weight for all the pandas! Try to use as few code words as possible**  \n",
    "Expected:  \n",
    "The panda n°0 called 'foo' is 2 year(s) old, 20 tall and weights 40  \n",
    "The panda n°1 called 'bar' is 5 year(s) old, 160 tall and weights 120  \n",
    "The panda n°2 called 'lazy' is 1 year(s) old, 60 tall and weights 70  \n",
    "The panda n°3 called 'greedy' is 12 year(s) old, 170 tall and weights 130  \n",
    "The panda n°4 called 'kwargs' is 4 year(s) old, 180 tall and weights 130  "
   ]
  },
  {
   "cell_type": "code",
   "execution_count": 9,
   "metadata": {},
   "outputs": [],
   "source": [
    "## ------- YOUR CODE HERE ------- ##\n"
   ]
  },
  {
   "cell_type": "markdown",
   "metadata": {},
   "source": [
    "Great! That's quicker to implement and to modify, it is scalable to million of pandas. We Data Scientists and coders like these principles! (it is also a curse, beware not to over-optimize every bit of code 👿👹🤡)\n",
    "\n",
    "Still, don't you feel that should be even simpler? (am I in the danger zone of over-optimization? Not this time)"
   ]
  },
  {
   "cell_type": "markdown",
   "metadata": {},
   "source": [
    "**Q9: Create a pandas DataFrame that contains the series aforementioned. The index of this DataFrame should be the name of the pandas. You can name this variable *'saved_pandas'***"
   ]
  },
  {
   "cell_type": "code",
   "execution_count": 10,
   "metadata": {},
   "outputs": [],
   "source": [
    "## ------- YOUR CODE HERE ------- ##\n"
   ]
  },
  {
   "cell_type": "markdown",
   "metadata": {},
   "source": [
    "Now that you have a better view of your data, can you tell why '*lazy*' might be a lazy panda?"
   ]
  },
  {
   "cell_type": "markdown",
   "metadata": {},
   "source": [
    "**Q10: Analyze your data and provide a plausible explanation**"
   ]
  },
  {
   "cell_type": "markdown",
   "metadata": {},
   "source": [
    "------- YOUR ANSWER HERE -------\n",
    "\n"
   ]
  },
  {
   "cell_type": "markdown",
   "metadata": {},
   "source": [
    "Eoki still needs you to know better this group of newly arrived pandas. Can you help it?"
   ]
  },
  {
   "cell_type": "markdown",
   "metadata": {},
   "source": [
    "**Q11: Compute and display the average age, size and weight**"
   ]
  },
  {
   "cell_type": "code",
   "execution_count": 11,
   "metadata": {},
   "outputs": [],
   "source": [
    "## ------- YOUR CODE HERE ------- ##\n"
   ]
  },
  {
   "cell_type": "markdown",
   "metadata": {},
   "source": [
    "**Q12: Compute and display the maximum age, size and weight**"
   ]
  },
  {
   "cell_type": "code",
   "execution_count": 12,
   "metadata": {},
   "outputs": [],
   "source": [
    "## ------- YOUR CODE HERE ------- ##\n"
   ]
  },
  {
   "cell_type": "markdown",
   "metadata": {},
   "source": [
    "**Q13: Compute and display: the minimum, maximum, mean of these factors in a single line of code**\n",
    "\n",
    "Hint: you can find help in the [pandas API reference](https://pandas.pydata.org/docs/reference/index.html) (even it can be scary at first). Look for '*Computations / descriptive stats*'."
   ]
  },
  {
   "cell_type": "code",
   "execution_count": 13,
   "metadata": {},
   "outputs": [],
   "source": [
    "## ------- YOUR CODE HERE ------- ##\n"
   ]
  },
  {
   "cell_type": "markdown",
   "metadata": {},
   "source": [
    "**Q14: Compute and display the standard deviation of these factors**"
   ]
  },
  {
   "cell_type": "code",
   "execution_count": 14,
   "metadata": {},
   "outputs": [],
   "source": [
    "## ------- YOUR CODE HERE ------- ##\n"
   ]
  },
  {
   "cell_type": "markdown",
   "metadata": {},
   "source": [
    "Let's produce a cleaner output. Do we really need a precision of 6 digits (4.324350)? Don't think so. Let's reduce that to a precision of 2 digits (4.32)"
   ]
  },
  {
   "cell_type": "markdown",
   "metadata": {},
   "source": [
    "**Q15: Compute and display the same standard deviation with a precision of 2**"
   ]
  },
  {
   "cell_type": "code",
   "execution_count": 15,
   "metadata": {},
   "outputs": [],
   "source": [
    "## ------- YOUR CODE HERE ------- ##\n"
   ]
  },
  {
   "cell_type": "markdown",
   "metadata": {},
   "source": [
    "Hummmm nice! Eoki is very grateful for your help.\n",
    "\n",
    "Oh no! It seems however that Eoki is disturbed by something. A panda seems in a very bad shape. Eoki is too disturbed to even give you the name of this panda. Which panda is it, have you seen it while you were producing this descriptive analysis? What is the problem?"
   ]
  },
  {
   "cell_type": "markdown",
   "metadata": {},
   "source": [
    "**Q16: Find out what could make Eoki so sad**  \n",
    "Hint: is a panda about to die? How could one know about that without a life spent studying pandas?"
   ]
  },
  {
   "cell_type": "markdown",
   "metadata": {},
   "source": [
    "------- YOUR ANSWER HERE -------\n",
    "\n"
   ]
  },
  {
   "cell_type": "markdown",
   "metadata": {},
   "source": [
    "If you didn't see it, it is quite normal. That is another curse of Data Analysts / Scientists, well, mostly at the beginning. You were so eager to help, you deep dived into the code, and forgot about the big picture. It is important to frequently take a step back and think about the coherence of our code outputs."
   ]
  },
  {
   "cell_type": "markdown",
   "metadata": {},
   "source": [
    "# Data Management - Part 2"
   ]
  },
  {
   "cell_type": "markdown",
   "metadata": {},
   "source": [
    "Hey again! Eoki has great news! The panda *foo* is safe! It was a mistake in the data actually. Its age and size are correct, but the weight isn't 12kg. How are you going to deal with this issue?"
   ]
  },
  {
   "cell_type": "markdown",
   "metadata": {},
   "source": [
    "**Q17: Replace the weight of *foo* by a NaN**  \n",
    "If you encounter the \"*slice*\" issue, try to understand what it means"
   ]
  },
  {
   "cell_type": "code",
   "execution_count": 16,
   "metadata": {},
   "outputs": [],
   "source": [
    "\n",
    "## ------- YOUR CODE HERE ------- ##\n"
   ]
  },
  {
   "cell_type": "markdown",
   "metadata": {},
   "source": [
    "I hope you are still with Eoki on this. If you set the value properly on your first attempt, consider yourself lucky!\n",
    "\n",
    "\n",
    "An expert just told us the age of pandas is considered 7 times greater than the human's (I think the expert is confusing with cats, anyway)."
   ]
  },
  {
   "cell_type": "markdown",
   "metadata": {},
   "source": [
    "**Q18: Multiply the age of each panda by 7**"
   ]
  },
  {
   "cell_type": "code",
   "execution_count": 17,
   "metadata": {},
   "outputs": [],
   "source": [
    "## ------- YOUR CODE HERE ------- ##\n"
   ]
  },
  {
   "cell_type": "markdown",
   "metadata": {},
   "source": [
    "Great. In order to have a better appreciation of pandas health, let's build some additionnal metrics."
   ]
  },
  {
   "cell_type": "markdown",
   "metadata": {},
   "source": [
    "**Q19: Add a column 'Overweight', which corresponds to a panda weight in proportion to its size**"
   ]
  },
  {
   "cell_type": "code",
   "execution_count": 18,
   "metadata": {},
   "outputs": [],
   "source": [
    "## ------- YOUR CODE HERE ------- ##\n"
   ]
  },
  {
   "cell_type": "markdown",
   "metadata": {},
   "source": [
    "Well, now the NaN is propagating. It is time to handle it, isn't it?"
   ]
  },
  {
   "cell_type": "markdown",
   "metadata": {},
   "source": [
    "**Q20: Set the Overweight NaN value to the Overweight mean**"
   ]
  },
  {
   "cell_type": "code",
   "execution_count": 19,
   "metadata": {},
   "outputs": [],
   "source": [
    "## ------- YOUR CODE HERE ------- ##\n"
   ]
  },
  {
   "cell_type": "markdown",
   "metadata": {},
   "source": [
    "**Q21: Deduce and set the Weight from the Overweight and Size for *foo***"
   ]
  },
  {
   "cell_type": "code",
   "execution_count": 20,
   "metadata": {},
   "outputs": [],
   "source": [
    "## ------- YOUR CODE HERE ------- ##\n"
   ]
  },
  {
   "cell_type": "markdown",
   "metadata": {},
   "source": [
    "Why didn't you just correct the Weight NaN using the Weight mean from the beginning?"
   ]
  },
  {
   "cell_type": "markdown",
   "metadata": {},
   "source": [
    "**Q22: Compute and print the Weight mean from all the pandas but *foo***"
   ]
  },
  {
   "cell_type": "code",
   "execution_count": 21,
   "metadata": {},
   "outputs": [],
   "source": [
    "## ------- YOUR CODE HERE ------- ##\n"
   ]
  },
  {
   "cell_type": "markdown",
   "metadata": {},
   "source": [
    "Wow, 110 against 81, that's quite a large difference! Have we just done a mistake?"
   ]
  },
  {
   "cell_type": "markdown",
   "metadata": {},
   "source": [
    "**Q23: Is it better using 81 or 110? Why?**"
   ]
  },
  {
   "cell_type": "markdown",
   "metadata": {},
   "source": [
    "------- YOUR ANSWER HERE -------  \n",
    "\n"
   ]
  },
  {
   "cell_type": "markdown",
   "metadata": {},
   "source": [
    "**Q24: How could this NaN imputation be further enhanced?**"
   ]
  },
  {
   "cell_type": "markdown",
   "metadata": {},
   "source": [
    "------- YOUR ANSWER HERE ------- \n",
    "\n"
   ]
  },
  {
   "cell_type": "markdown",
   "metadata": {},
   "source": [
    "Eoki would like to offer birthday presents to its friends. However, its agenda only accepts birth dates (rather than the current age).\n",
    "\n"
   ]
  },
  {
   "cell_type": "markdown",
   "metadata": {},
   "source": [
    "**Q25: Add a column 'Birth_year', deduced from the initial pandas age**\n",
    "\n"
   ]
  },
  {
   "cell_type": "code",
   "execution_count": 22,
   "metadata": {},
   "outputs": [],
   "source": [
    "## ------- YOUR CODE HERE ------- ##\n"
   ]
  },
  {
   "cell_type": "markdown",
   "metadata": {},
   "source": [
    "Since the age is (according to the strange expert) 7 times greater, it is necessary to make the calculus each year. Re-doing what could be done once for all, Data Scientist and coders don't like that."
   ]
  },
  {
   "cell_type": "markdown",
   "metadata": {},
   "source": [
    "**Q26: Create a function that returns the age of all the pandas (in terms of panda age!)**\n",
    "\n",
    "This function should use the *saved_pandas* DataFrame as input.\n",
    "\n",
    "Be careful, it should be based on the Birth_year, since the age evolves over time.\n",
    "\n",
    "Call the function using *saved_pandas* to verify that it returns the same age than saved_pandas['Age']"
   ]
  },
  {
   "cell_type": "code",
   "execution_count": 23,
   "metadata": {},
   "outputs": [],
   "source": [
    "## ------- YOUR CODE HERE ------- ##\n"
   ]
  },
  {
   "cell_type": "markdown",
   "metadata": {},
   "source": [
    "Since Eoki is very small, it especially likes huuuuuge pandas! Help Eoki find the huge pandas."
   ]
  },
  {
   "cell_type": "markdown",
   "metadata": {},
   "source": [
    "**Q27: Extract and display the data corresponding to pandas that weight more than 100kg**"
   ]
  },
  {
   "cell_type": "code",
   "execution_count": 24,
   "metadata": {},
   "outputs": [],
   "source": [
    "## ------- YOUR CODE HERE ------- ##\n"
   ]
  },
  {
   "cell_type": "markdown",
   "metadata": {},
   "source": [
    "Since pandas that are tall are even more impressive, let's help Eoki find these pandas first!"
   ]
  },
  {
   "cell_type": "markdown",
   "metadata": {},
   "source": [
    "**Q28: Sort the resulting DataFrame by decreasing size**"
   ]
  },
  {
   "cell_type": "code",
   "execution_count": 25,
   "metadata": {},
   "outputs": [],
   "source": [
    "## ------- YOUR CODE HERE ------- ##\n"
   ]
  },
  {
   "cell_type": "markdown",
   "metadata": {},
   "source": [
    "In order to clean up this output, the type and precision of the variables should be in coherence with the intended variable type (i.e. the intended type of the variable Birth_year should be...?)."
   ]
  },
  {
   "cell_type": "markdown",
   "metadata": {},
   "source": [
    "**Q29: Amend the types of the variables for it to be more appropriate**"
   ]
  },
  {
   "cell_type": "code",
   "execution_count": 27,
   "metadata": {},
   "outputs": [],
   "source": [
    "## ------- YOUR CODE HERE ------- ##\n"
   ]
  }
 ],
 "metadata": {
  "kernelspec": {
   "display_name": "Python 3.9.2 64-bit ('base': conda)",
   "name": "python392jvsc74a57bd07af18836d0230a7f5b613608d3abbb6f7e976c9003c7bb02c10402ff68cd14d9"
  },
  "language_info": {
   "codemirror_mode": {
    "name": "ipython",
    "version": 3
   },
   "file_extension": ".py",
   "mimetype": "text/x-python",
   "name": "python",
   "nbconvert_exporter": "python",
   "pygments_lexer": "ipython3",
   "version": "3.9.2"
  },
  "metadata": {
   "interpreter": {
    "hash": "7af18836d0230a7f5b613608d3abbb6f7e976c9003c7bb02c10402ff68cd14d9"
   }
  },
  "orig_nbformat": 2
 },
 "nbformat": 4,
 "nbformat_minor": 2
}